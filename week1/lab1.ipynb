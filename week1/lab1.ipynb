{
 "cells": [
  {
   "cell_type": "markdown",
   "id": "67efb10f",
   "metadata": {},
   "source": [
    "# Welcome to the SuperDataScience AI Bootcamp!\n",
    "\n",
    "\n",
    "![Bootcamp](../assets/banner2.png)"
   ]
  },
  {
   "cell_type": "markdown",
   "id": "3ece7553",
   "metadata": {},
   "source": [
    "## AGENDA FOR TODAY\n",
    "\n",
    "### Part 1: Welcome!\n",
    "\n",
    "- Introductions\n",
    "- Judo Belts\n",
    "- Course Agenda\n",
    "- Themes of the course\n",
    "- Success\n",
    "\n",
    "### Part 2: Preliminaries\n",
    "\n",
    "- An HTTP call to a friend\n",
    "- The OpenAI Python Client Library\n",
    "- System Prompt vs User Prompt\n",
    "- OpenAI for non OpenAI & LLM as a Judge\n",
    "\n",
    "### Part 3: Foundations\n",
    "\n",
    "- The illusion of memory\n",
    "- Chat vs Reasoning; Training vs Inference scaling\n",
    "- Abstractions vs Routers\n",
    "- Temperature & inside inference\n",
    "- Multi-modal Gradio\n",
    "\n",
    "### <span style=\"color: purple;\">First - please open a Cursor Terminal and run `git pull` to pick up the latest code</span>"
   ]
  },
  {
   "cell_type": "markdown",
   "id": "6b9143cf",
   "metadata": {},
   "source": [
    "# Lab1: An HTTP call to a friend"
   ]
  },
  {
   "cell_type": "code",
   "execution_count": null,
   "id": "270ba8c9",
   "metadata": {},
   "outputs": [],
   "source": [
    "message = \"Tell me a fun fact.\""
   ]
  },
  {
   "cell_type": "markdown",
   "id": "ce05876a",
   "metadata": {},
   "source": [
    "### <span style=\"color: green;\">Question: what is an \"Endpoint\"?</span>"
   ]
  },
  {
   "cell_type": "code",
   "execution_count": null,
   "id": "f1c8240a",
   "metadata": {},
   "outputs": [],
   "source": [
    "# Start with imports\n",
    "\n",
    "import requests\n",
    "from dotenv import load_dotenv\n",
    "import os\n",
    "from IPython.display import display, Markdown"
   ]
  },
  {
   "cell_type": "code",
   "execution_count": null,
   "id": "3ba15152",
   "metadata": {},
   "outputs": [],
   "source": [
    "# Load the API key\n",
    "\n",
    "load_dotenv(override=True)\n",
    "api_key = os.getenv(\"OPENAI_API_KEY\")\n",
    "\n",
    "if api_key:\n",
    "    print(f\"OpenAI API Key found and starts with {api_key[:8]}\")\n",
    "else:\n",
    "    print(\"No OpenAI API Key found\")"
   ]
  },
  {
   "cell_type": "code",
   "execution_count": null,
   "id": "81842b24",
   "metadata": {},
   "outputs": [],
   "source": [
    "# Making messages\n",
    "\n",
    "messages = [{\"role\": \"user\", \"content\": message}]"
   ]
  },
  {
   "cell_type": "code",
   "execution_count": null,
   "id": "804c2c98",
   "metadata": {},
   "outputs": [],
   "source": [
    "url = \"https://api.openai.com/v1/chat/completions\"\n",
    "\n",
    "headers = {\"Authorization\": f\"Bearer {api_key}\", \"Content-Type\": \"application/json\"}\n",
    "data = {\"model\": \"gpt-4.1-nano\", \"messages\": messages}\n",
    "\n",
    "response = requests.post(url, headers=headers, json=data)"
   ]
  },
  {
   "cell_type": "code",
   "execution_count": null,
   "id": "278b3a78",
   "metadata": {},
   "outputs": [],
   "source": [
    "# what came back?\n",
    "\n",
    "reply = response.json()[\"choices\"][0][\"message\"][\"content\"]\n",
    "display(Markdown(reply))"
   ]
  },
  {
   "cell_type": "code",
   "execution_count": null,
   "id": "25fe06d4",
   "metadata": {},
   "outputs": [],
   "source": []
  }
 ],
 "metadata": {
  "kernelspec": {
   "display_name": ".venv",
   "language": "python",
   "name": "python3"
  },
  "language_info": {
   "codemirror_mode": {
    "name": "ipython",
    "version": 3
   },
   "file_extension": ".py",
   "mimetype": "text/x-python",
   "name": "python",
   "nbconvert_exporter": "python",
   "pygments_lexer": "ipython3",
   "version": "3.12.9"
  }
 },
 "nbformat": 4,
 "nbformat_minor": 5
}
