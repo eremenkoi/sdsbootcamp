{
 "cells": [
  {
   "cell_type": "markdown",
   "id": "211efbd0",
   "metadata": {},
   "source": [
    "## Lab 2: the OpenAI Python Client Library "
   ]
  },
  {
   "cell_type": "code",
   "execution_count": null,
   "id": "6f8cbdc2",
   "metadata": {},
   "outputs": [],
   "source": [
    "from dotenv import load_dotenv\n",
    "from openai import OpenAI\n",
    "from IPython.display import display, Markdown"
   ]
  },
  {
   "cell_type": "markdown",
   "id": "20fde1a4",
   "metadata": {},
   "source": [
    "### <span style=\"color: green;\">Question: what is a Client Library?</span>"
   ]
  },
  {
   "cell_type": "code",
   "execution_count": null,
   "id": "0703645b",
   "metadata": {},
   "outputs": [],
   "source": [
    "load_dotenv(override=True)"
   ]
  },
  {
   "cell_type": "code",
   "execution_count": null,
   "id": "ac48e719",
   "metadata": {},
   "outputs": [],
   "source": [
    "openai = OpenAI()"
   ]
  },
  {
   "cell_type": "code",
   "execution_count": null,
   "id": "9c59ecb2",
   "metadata": {},
   "outputs": [],
   "source": [
    "message = \"Tell me a fun fact.\"\n",
    "messages = [{\"role\": \"user\", \"content\": message}]"
   ]
  },
  {
   "cell_type": "code",
   "execution_count": null,
   "id": "f7ebb5ad",
   "metadata": {},
   "outputs": [],
   "source": [
    "response = \n",
    "reply = \n",
    "display(Markdown(reply))"
   ]
  },
  {
   "cell_type": "markdown",
   "id": "fb64df0f",
   "metadata": {},
   "source": [
    "### <span style=\"color: orange;\">Question: what is the Chat Completions API? What's the Responses API? Why use one over the other?</span>"
   ]
  }
 ],
 "metadata": {
  "kernelspec": {
   "display_name": ".venv",
   "language": "python",
   "name": "python3"
  },
  "language_info": {
   "codemirror_mode": {
    "name": "ipython",
    "version": 3
   },
   "file_extension": ".py",
   "mimetype": "text/x-python",
   "name": "python",
   "nbconvert_exporter": "python",
   "pygments_lexer": "ipython3",
   "version": "3.12.9"
  }
 },
 "nbformat": 4,
 "nbformat_minor": 5
}
