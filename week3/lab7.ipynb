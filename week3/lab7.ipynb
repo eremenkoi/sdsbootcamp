{
 "cells": [
  {
   "cell_type": "markdown",
   "id": "3a6df45a",
   "metadata": {},
   "source": [
    "## AND NOW... the Agent Loop!"
   ]
  },
  {
   "cell_type": "code",
   "execution_count": 1,
   "id": "a13f270a",
   "metadata": {},
   "outputs": [
    {
     "data": {
      "text/plain": [
       "True"
      ]
     },
     "execution_count": 1,
     "metadata": {},
     "output_type": "execute_result"
    }
   ],
   "source": [
    "from agents import Agent, Runner, function_tool\n",
    "from dotenv import load_dotenv\n",
    "from pydantic import BaseModel, Field\n",
    "from rich.console import Console\n",
    "import docker\n",
    "import tempfile\n",
    "import os\n",
    "import requests\n",
    "load_dotenv(override=True)"
   ]
  },
  {
   "cell_type": "code",
   "execution_count": 2,
   "id": "def22d54",
   "metadata": {},
   "outputs": [],
   "source": [
    "todos = []\n",
    "\n",
    "class ToDoItem(BaseModel):\n",
    "    description: str = Field(..., description=\"The text describing the task\")\n",
    "    completed: bool = Field(False, description=\"Whether the task is complete\")"
   ]
  },
  {
   "cell_type": "code",
   "execution_count": 4,
   "id": "2a0c4734",
   "metadata": {},
   "outputs": [],
   "source": [
    "def get_todo_report(print: bool=False) -> str:\n",
    "    \"\"\"Get a report of all todos.\"\"\"\n",
    "    result = \"\"\n",
    "    for index, todo in enumerate(todos):\n",
    "        completed = \"X\" if todo.completed else \" \"\n",
    "        start = \"[strike][green]\" if todo.completed else \"\"\n",
    "        end = \"[/strike][/green]\" if todo.completed else \"\"\n",
    "        start += \"[red]\" if \"python\" in todo.description.lower() else \"\"\n",
    "        end += \"[/red]\" if \"python\" in todo.description.lower() else \"\"\n",
    "        result += f\"Todo #{index + 1}: [{completed}] {start}{todo.description}{end}\\n\"\n",
    "    if print:\n",
    "        Console().print(result)\n",
    "    return result"
   ]
  },
  {
   "cell_type": "code",
   "execution_count": 5,
   "id": "3248b85f",
   "metadata": {},
   "outputs": [],
   "source": [
    "@function_tool\n",
    "def create_todos(descriptions: list[str]) -> str:\n",
    "    \"\"\"Add new todos from a list of descriptions and return the full list\"\"\"\n",
    "    for desc in descriptions:\n",
    "        todos.append(ToDoItem(description=desc))\n",
    "    return get_todo_report(print=True)\n",
    "\n",
    "\n",
    "@function_tool\n",
    "def mark_complete(index: int) -> str:\n",
    "    \"\"\"Mark complete the todo at the given position (starting from 1) and return the full list\"\"\"\n",
    "    if 1 <= index <= len(todos):\n",
    "        todos[index - 1].completed = True\n",
    "    else:\n",
    "        return \"No todo at this index.\"\n",
    "    return get_todo_report(print=True)\n",
    "\n",
    "\n",
    "@function_tool\n",
    "def list_todos() -> str:\n",
    "    \"\"\"Return the full list of todos with completed ones checked off\"\"\"\n",
    "    return get_todo_report()\n"
   ]
  },
  {
   "cell_type": "code",
   "execution_count": 6,
   "id": "7ba7f42c",
   "metadata": {},
   "outputs": [],
   "source": [
    "instructions = \"\"\"\n",
    "You are given a problem to solve, by using your todo tools to plan a list of steps, then carrying out each step in turn.\n",
    "Now use the todo list tools, create a plan, carry out the steps, and reply with the solution.\n",
    "Provide your solution in Rich console markup (e.g. [bold red]Error[/bold red]) to indicate colors and styles.\n",
    "\"\"\"\n",
    "tools = [create_todos, mark_complete, list_todos]\n",
    "agent = Agent(\"Puzzle Agent\", model=\"gpt-4.1-mini\", instructions=instructions, tools=tools)"
   ]
  },
  {
   "cell_type": "code",
   "execution_count": 7,
   "id": "c0f439dd",
   "metadata": {},
   "outputs": [
    {
     "data": {
      "text/html": [
       "<pre style=\"white-space:pre;overflow-x:auto;line-height:normal;font-family:Menlo,'DejaVu Sans Mono',consolas,'Courier New',monospace\">Todo #<span style=\"color: #008080; text-decoration-color: #008080; font-weight: bold\">1</span>: <span style=\"font-weight: bold\">[</span> <span style=\"font-weight: bold\">]</span> Determine the distance between Boston and New York\n",
       "Todo #<span style=\"color: #008080; text-decoration-color: #008080; font-weight: bold\">2</span>: <span style=\"font-weight: bold\">[</span> <span style=\"font-weight: bold\">]</span> Calculate the position of the Boston train when the New York train starts at <span style=\"color: #00ff00; text-decoration-color: #00ff00; font-weight: bold\">3:00</span> pm\n",
       "Todo #<span style=\"color: #008080; text-decoration-color: #008080; font-weight: bold\">3</span>: <span style=\"font-weight: bold\">[</span> <span style=\"font-weight: bold\">]</span> Set up equations for the positions of both trains as functions of time after <span style=\"color: #00ff00; text-decoration-color: #00ff00; font-weight: bold\">3:00</span> pm\n",
       "Todo #<span style=\"color: #008080; text-decoration-color: #008080; font-weight: bold\">4</span>: <span style=\"font-weight: bold\">[</span> <span style=\"font-weight: bold\">]</span> Solve for the time when the positions of the two trains are equal\n",
       "Todo #<span style=\"color: #008080; text-decoration-color: #008080; font-weight: bold\">5</span>: <span style=\"font-weight: bold\">[</span> <span style=\"font-weight: bold\">]</span> Convert the time back to a clock time for the meeting time\n",
       "\n",
       "</pre>\n"
      ],
      "text/plain": [
       "Todo #\u001b[1;36m1\u001b[0m: \u001b[1m[\u001b[0m \u001b[1m]\u001b[0m Determine the distance between Boston and New York\n",
       "Todo #\u001b[1;36m2\u001b[0m: \u001b[1m[\u001b[0m \u001b[1m]\u001b[0m Calculate the position of the Boston train when the New York train starts at \u001b[1;92m3:00\u001b[0m pm\n",
       "Todo #\u001b[1;36m3\u001b[0m: \u001b[1m[\u001b[0m \u001b[1m]\u001b[0m Set up equations for the positions of both trains as functions of time after \u001b[1;92m3:00\u001b[0m pm\n",
       "Todo #\u001b[1;36m4\u001b[0m: \u001b[1m[\u001b[0m \u001b[1m]\u001b[0m Solve for the time when the positions of the two trains are equal\n",
       "Todo #\u001b[1;36m5\u001b[0m: \u001b[1m[\u001b[0m \u001b[1m]\u001b[0m Convert the time back to a clock time for the meeting time\n",
       "\n"
      ]
     },
     "metadata": {},
     "output_type": "display_data"
    },
    {
     "data": {
      "text/html": [
       "<pre style=\"white-space:pre;overflow-x:auto;line-height:normal;font-family:Menlo,'DejaVu Sans Mono',consolas,'Courier New',monospace\">Todo #<span style=\"color: #008080; text-decoration-color: #008080; font-weight: bold\">1</span>: <span style=\"font-weight: bold\">[</span>X<span style=\"font-weight: bold\">]</span> <span style=\"color: #008000; text-decoration-color: #008000; text-decoration: line-through\">Determine the distance between Boston and New York</span>\n",
       "Todo #<span style=\"color: #008080; text-decoration-color: #008080; font-weight: bold\">2</span>: <span style=\"font-weight: bold\">[</span> <span style=\"font-weight: bold\">]</span> Calculate the position of the Boston train when the New York train starts at <span style=\"color: #00ff00; text-decoration-color: #00ff00; font-weight: bold\">3:00</span> pm\n",
       "Todo #<span style=\"color: #008080; text-decoration-color: #008080; font-weight: bold\">3</span>: <span style=\"font-weight: bold\">[</span> <span style=\"font-weight: bold\">]</span> Set up equations for the positions of both trains as functions of time after <span style=\"color: #00ff00; text-decoration-color: #00ff00; font-weight: bold\">3:00</span> pm\n",
       "Todo #<span style=\"color: #008080; text-decoration-color: #008080; font-weight: bold\">4</span>: <span style=\"font-weight: bold\">[</span> <span style=\"font-weight: bold\">]</span> Solve for the time when the positions of the two trains are equal\n",
       "Todo #<span style=\"color: #008080; text-decoration-color: #008080; font-weight: bold\">5</span>: <span style=\"font-weight: bold\">[</span> <span style=\"font-weight: bold\">]</span> Convert the time back to a clock time for the meeting time\n",
       "\n",
       "</pre>\n"
      ],
      "text/plain": [
       "Todo #\u001b[1;36m1\u001b[0m: \u001b[1m[\u001b[0mX\u001b[1m]\u001b[0m \u001b[9;32mDetermine the distance between Boston and New York\u001b[0m\n",
       "Todo #\u001b[1;36m2\u001b[0m: \u001b[1m[\u001b[0m \u001b[1m]\u001b[0m Calculate the position of the Boston train when the New York train starts at \u001b[1;92m3:00\u001b[0m pm\n",
       "Todo #\u001b[1;36m3\u001b[0m: \u001b[1m[\u001b[0m \u001b[1m]\u001b[0m Set up equations for the positions of both trains as functions of time after \u001b[1;92m3:00\u001b[0m pm\n",
       "Todo #\u001b[1;36m4\u001b[0m: \u001b[1m[\u001b[0m \u001b[1m]\u001b[0m Solve for the time when the positions of the two trains are equal\n",
       "Todo #\u001b[1;36m5\u001b[0m: \u001b[1m[\u001b[0m \u001b[1m]\u001b[0m Convert the time back to a clock time for the meeting time\n",
       "\n"
      ]
     },
     "metadata": {},
     "output_type": "display_data"
    },
    {
     "data": {
      "text/html": [
       "<pre style=\"white-space:pre;overflow-x:auto;line-height:normal;font-family:Menlo,'DejaVu Sans Mono',consolas,'Courier New',monospace\">Todo #<span style=\"color: #008080; text-decoration-color: #008080; font-weight: bold\">1</span>: <span style=\"font-weight: bold\">[</span>X<span style=\"font-weight: bold\">]</span> <span style=\"color: #008000; text-decoration-color: #008000; text-decoration: line-through\">Determine the distance between Boston and New York</span>\n",
       "Todo #<span style=\"color: #008080; text-decoration-color: #008080; font-weight: bold\">2</span>: <span style=\"font-weight: bold\">[</span>X<span style=\"font-weight: bold\">]</span> <span style=\"color: #008000; text-decoration-color: #008000; text-decoration: line-through\">Calculate the position of the Boston train when the New York train starts at </span><span style=\"color: #008000; text-decoration-color: #008000; font-weight: bold; text-decoration: line-through\">3:00</span><span style=\"color: #008000; text-decoration-color: #008000; text-decoration: line-through\"> pm</span>\n",
       "Todo #<span style=\"color: #008080; text-decoration-color: #008080; font-weight: bold\">3</span>: <span style=\"font-weight: bold\">[</span> <span style=\"font-weight: bold\">]</span> Set up equations for the positions of both trains as functions of time after <span style=\"color: #00ff00; text-decoration-color: #00ff00; font-weight: bold\">3:00</span> pm\n",
       "Todo #<span style=\"color: #008080; text-decoration-color: #008080; font-weight: bold\">4</span>: <span style=\"font-weight: bold\">[</span> <span style=\"font-weight: bold\">]</span> Solve for the time when the positions of the two trains are equal\n",
       "Todo #<span style=\"color: #008080; text-decoration-color: #008080; font-weight: bold\">5</span>: <span style=\"font-weight: bold\">[</span> <span style=\"font-weight: bold\">]</span> Convert the time back to a clock time for the meeting time\n",
       "\n",
       "</pre>\n"
      ],
      "text/plain": [
       "Todo #\u001b[1;36m1\u001b[0m: \u001b[1m[\u001b[0mX\u001b[1m]\u001b[0m \u001b[9;32mDetermine the distance between Boston and New York\u001b[0m\n",
       "Todo #\u001b[1;36m2\u001b[0m: \u001b[1m[\u001b[0mX\u001b[1m]\u001b[0m \u001b[9;32mCalculate the position of the Boston train when the New York train starts at \u001b[0m\u001b[1;9;32m3:00\u001b[0m\u001b[9;32m pm\u001b[0m\n",
       "Todo #\u001b[1;36m3\u001b[0m: \u001b[1m[\u001b[0m \u001b[1m]\u001b[0m Set up equations for the positions of both trains as functions of time after \u001b[1;92m3:00\u001b[0m pm\n",
       "Todo #\u001b[1;36m4\u001b[0m: \u001b[1m[\u001b[0m \u001b[1m]\u001b[0m Solve for the time when the positions of the two trains are equal\n",
       "Todo #\u001b[1;36m5\u001b[0m: \u001b[1m[\u001b[0m \u001b[1m]\u001b[0m Convert the time back to a clock time for the meeting time\n",
       "\n"
      ]
     },
     "metadata": {},
     "output_type": "display_data"
    },
    {
     "data": {
      "text/html": [
       "<pre style=\"white-space:pre;overflow-x:auto;line-height:normal;font-family:Menlo,'DejaVu Sans Mono',consolas,'Courier New',monospace\">Todo #<span style=\"color: #008080; text-decoration-color: #008080; font-weight: bold\">1</span>: <span style=\"font-weight: bold\">[</span>X<span style=\"font-weight: bold\">]</span> <span style=\"color: #008000; text-decoration-color: #008000; text-decoration: line-through\">Determine the distance between Boston and New York</span>\n",
       "Todo #<span style=\"color: #008080; text-decoration-color: #008080; font-weight: bold\">2</span>: <span style=\"font-weight: bold\">[</span>X<span style=\"font-weight: bold\">]</span> <span style=\"color: #008000; text-decoration-color: #008000; text-decoration: line-through\">Calculate the position of the Boston train when the New York train starts at </span><span style=\"color: #008000; text-decoration-color: #008000; font-weight: bold; text-decoration: line-through\">3:00</span><span style=\"color: #008000; text-decoration-color: #008000; text-decoration: line-through\"> pm</span>\n",
       "Todo #<span style=\"color: #008080; text-decoration-color: #008080; font-weight: bold\">3</span>: <span style=\"font-weight: bold\">[</span>X<span style=\"font-weight: bold\">]</span> <span style=\"color: #008000; text-decoration-color: #008000; text-decoration: line-through\">Set up equations for the positions of both trains as functions of time after </span><span style=\"color: #008000; text-decoration-color: #008000; font-weight: bold; text-decoration: line-through\">3:00</span><span style=\"color: #008000; text-decoration-color: #008000; text-decoration: line-through\"> pm</span>\n",
       "Todo #<span style=\"color: #008080; text-decoration-color: #008080; font-weight: bold\">4</span>: <span style=\"font-weight: bold\">[</span> <span style=\"font-weight: bold\">]</span> Solve for the time when the positions of the two trains are equal\n",
       "Todo #<span style=\"color: #008080; text-decoration-color: #008080; font-weight: bold\">5</span>: <span style=\"font-weight: bold\">[</span> <span style=\"font-weight: bold\">]</span> Convert the time back to a clock time for the meeting time\n",
       "\n",
       "</pre>\n"
      ],
      "text/plain": [
       "Todo #\u001b[1;36m1\u001b[0m: \u001b[1m[\u001b[0mX\u001b[1m]\u001b[0m \u001b[9;32mDetermine the distance between Boston and New York\u001b[0m\n",
       "Todo #\u001b[1;36m2\u001b[0m: \u001b[1m[\u001b[0mX\u001b[1m]\u001b[0m \u001b[9;32mCalculate the position of the Boston train when the New York train starts at \u001b[0m\u001b[1;9;32m3:00\u001b[0m\u001b[9;32m pm\u001b[0m\n",
       "Todo #\u001b[1;36m3\u001b[0m: \u001b[1m[\u001b[0mX\u001b[1m]\u001b[0m \u001b[9;32mSet up equations for the positions of both trains as functions of time after \u001b[0m\u001b[1;9;32m3:00\u001b[0m\u001b[9;32m pm\u001b[0m\n",
       "Todo #\u001b[1;36m4\u001b[0m: \u001b[1m[\u001b[0m \u001b[1m]\u001b[0m Solve for the time when the positions of the two trains are equal\n",
       "Todo #\u001b[1;36m5\u001b[0m: \u001b[1m[\u001b[0m \u001b[1m]\u001b[0m Convert the time back to a clock time for the meeting time\n",
       "\n"
      ]
     },
     "metadata": {},
     "output_type": "display_data"
    },
    {
     "data": {
      "text/html": [
       "<pre style=\"white-space:pre;overflow-x:auto;line-height:normal;font-family:Menlo,'DejaVu Sans Mono',consolas,'Courier New',monospace\">Todo #<span style=\"color: #008080; text-decoration-color: #008080; font-weight: bold\">1</span>: <span style=\"font-weight: bold\">[</span>X<span style=\"font-weight: bold\">]</span> <span style=\"color: #008000; text-decoration-color: #008000; text-decoration: line-through\">Determine the distance between Boston and New York</span>\n",
       "Todo #<span style=\"color: #008080; text-decoration-color: #008080; font-weight: bold\">2</span>: <span style=\"font-weight: bold\">[</span>X<span style=\"font-weight: bold\">]</span> <span style=\"color: #008000; text-decoration-color: #008000; text-decoration: line-through\">Calculate the position of the Boston train when the New York train starts at </span><span style=\"color: #008000; text-decoration-color: #008000; font-weight: bold; text-decoration: line-through\">3:00</span><span style=\"color: #008000; text-decoration-color: #008000; text-decoration: line-through\"> pm</span>\n",
       "Todo #<span style=\"color: #008080; text-decoration-color: #008080; font-weight: bold\">3</span>: <span style=\"font-weight: bold\">[</span>X<span style=\"font-weight: bold\">]</span> <span style=\"color: #008000; text-decoration-color: #008000; text-decoration: line-through\">Set up equations for the positions of both trains as functions of time after </span><span style=\"color: #008000; text-decoration-color: #008000; font-weight: bold; text-decoration: line-through\">3:00</span><span style=\"color: #008000; text-decoration-color: #008000; text-decoration: line-through\"> pm</span>\n",
       "Todo #<span style=\"color: #008080; text-decoration-color: #008080; font-weight: bold\">4</span>: <span style=\"font-weight: bold\">[</span>X<span style=\"font-weight: bold\">]</span> <span style=\"color: #008000; text-decoration-color: #008000; text-decoration: line-through\">Solve for the time when the positions of the two trains are equal</span>\n",
       "Todo #<span style=\"color: #008080; text-decoration-color: #008080; font-weight: bold\">5</span>: <span style=\"font-weight: bold\">[</span> <span style=\"font-weight: bold\">]</span> Convert the time back to a clock time for the meeting time\n",
       "\n",
       "</pre>\n"
      ],
      "text/plain": [
       "Todo #\u001b[1;36m1\u001b[0m: \u001b[1m[\u001b[0mX\u001b[1m]\u001b[0m \u001b[9;32mDetermine the distance between Boston and New York\u001b[0m\n",
       "Todo #\u001b[1;36m2\u001b[0m: \u001b[1m[\u001b[0mX\u001b[1m]\u001b[0m \u001b[9;32mCalculate the position of the Boston train when the New York train starts at \u001b[0m\u001b[1;9;32m3:00\u001b[0m\u001b[9;32m pm\u001b[0m\n",
       "Todo #\u001b[1;36m3\u001b[0m: \u001b[1m[\u001b[0mX\u001b[1m]\u001b[0m \u001b[9;32mSet up equations for the positions of both trains as functions of time after \u001b[0m\u001b[1;9;32m3:00\u001b[0m\u001b[9;32m pm\u001b[0m\n",
       "Todo #\u001b[1;36m4\u001b[0m: \u001b[1m[\u001b[0mX\u001b[1m]\u001b[0m \u001b[9;32mSolve for the time when the positions of the two trains are equal\u001b[0m\n",
       "Todo #\u001b[1;36m5\u001b[0m: \u001b[1m[\u001b[0m \u001b[1m]\u001b[0m Convert the time back to a clock time for the meeting time\n",
       "\n"
      ]
     },
     "metadata": {},
     "output_type": "display_data"
    },
    {
     "data": {
      "text/html": [
       "<pre style=\"white-space:pre;overflow-x:auto;line-height:normal;font-family:Menlo,'DejaVu Sans Mono',consolas,'Courier New',monospace\">Todo #<span style=\"color: #008080; text-decoration-color: #008080; font-weight: bold\">1</span>: <span style=\"font-weight: bold\">[</span>X<span style=\"font-weight: bold\">]</span> <span style=\"color: #008000; text-decoration-color: #008000; text-decoration: line-through\">Determine the distance between Boston and New York</span>\n",
       "Todo #<span style=\"color: #008080; text-decoration-color: #008080; font-weight: bold\">2</span>: <span style=\"font-weight: bold\">[</span>X<span style=\"font-weight: bold\">]</span> <span style=\"color: #008000; text-decoration-color: #008000; text-decoration: line-through\">Calculate the position of the Boston train when the New York train starts at </span><span style=\"color: #008000; text-decoration-color: #008000; font-weight: bold; text-decoration: line-through\">3:00</span><span style=\"color: #008000; text-decoration-color: #008000; text-decoration: line-through\"> pm</span>\n",
       "Todo #<span style=\"color: #008080; text-decoration-color: #008080; font-weight: bold\">3</span>: <span style=\"font-weight: bold\">[</span>X<span style=\"font-weight: bold\">]</span> <span style=\"color: #008000; text-decoration-color: #008000; text-decoration: line-through\">Set up equations for the positions of both trains as functions of time after </span><span style=\"color: #008000; text-decoration-color: #008000; font-weight: bold; text-decoration: line-through\">3:00</span><span style=\"color: #008000; text-decoration-color: #008000; text-decoration: line-through\"> pm</span>\n",
       "Todo #<span style=\"color: #008080; text-decoration-color: #008080; font-weight: bold\">4</span>: <span style=\"font-weight: bold\">[</span>X<span style=\"font-weight: bold\">]</span> <span style=\"color: #008000; text-decoration-color: #008000; text-decoration: line-through\">Solve for the time when the positions of the two trains are equal</span>\n",
       "Todo #<span style=\"color: #008080; text-decoration-color: #008080; font-weight: bold\">5</span>: <span style=\"font-weight: bold\">[</span>X<span style=\"font-weight: bold\">]</span> <span style=\"color: #008000; text-decoration-color: #008000; text-decoration: line-through\">Convert the time back to a clock time for the meeting time</span>\n",
       "\n",
       "</pre>\n"
      ],
      "text/plain": [
       "Todo #\u001b[1;36m1\u001b[0m: \u001b[1m[\u001b[0mX\u001b[1m]\u001b[0m \u001b[9;32mDetermine the distance between Boston and New York\u001b[0m\n",
       "Todo #\u001b[1;36m2\u001b[0m: \u001b[1m[\u001b[0mX\u001b[1m]\u001b[0m \u001b[9;32mCalculate the position of the Boston train when the New York train starts at \u001b[0m\u001b[1;9;32m3:00\u001b[0m\u001b[9;32m pm\u001b[0m\n",
       "Todo #\u001b[1;36m3\u001b[0m: \u001b[1m[\u001b[0mX\u001b[1m]\u001b[0m \u001b[9;32mSet up equations for the positions of both trains as functions of time after \u001b[0m\u001b[1;9;32m3:00\u001b[0m\u001b[9;32m pm\u001b[0m\n",
       "Todo #\u001b[1;36m4\u001b[0m: \u001b[1m[\u001b[0mX\u001b[1m]\u001b[0m \u001b[9;32mSolve for the time when the positions of the two trains are equal\u001b[0m\n",
       "Todo #\u001b[1;36m5\u001b[0m: \u001b[1m[\u001b[0mX\u001b[1m]\u001b[0m \u001b[9;32mConvert the time back to a clock time for the meeting time\u001b[0m\n",
       "\n"
      ]
     },
     "metadata": {},
     "output_type": "display_data"
    },
    {
     "data": {
      "text/html": [
       "<pre style=\"white-space:pre;overflow-x:auto;line-height:normal;font-family:Menlo,'DejaVu Sans Mono',consolas,'Courier New',monospace\">\n",
       "\n",
       "<span style=\"color: #008080; text-decoration-color: #008080; font-weight: bold\">1.107</span> hours is approximately <span style=\"color: #008080; text-decoration-color: #008080; font-weight: bold\">1</span> hour and <span style=\"color: #008080; text-decoration-color: #008080; font-weight: bold\">6.4</span> minutes.\n",
       "\n",
       "Adding this to <span style=\"color: #00ff00; text-decoration-color: #00ff00; font-weight: bold\">3:00</span> pm:\n",
       "\n",
       "<span style=\"color: #00ff00; text-decoration-color: #00ff00; font-weight: bold\">3:00</span> pm + <span style=\"color: #008080; text-decoration-color: #008080; font-weight: bold\">1</span> hour <span style=\"color: #008080; text-decoration-color: #008080; font-weight: bold\">6</span> minutes ≈ <span style=\"color: #00ff00; text-decoration-color: #00ff00; font-weight: bold\">4:06</span> pm\n",
       "\n",
       "<span style=\"color: #008000; text-decoration-color: #008000; font-weight: bold\">The two trains will meet at approximately 4:06 pm.</span>\n",
       "</pre>\n"
      ],
      "text/plain": [
       "\n",
       "\n",
       "\u001b[1;36m1.107\u001b[0m hours is approximately \u001b[1;36m1\u001b[0m hour and \u001b[1;36m6.4\u001b[0m minutes.\n",
       "\n",
       "Adding this to \u001b[1;92m3:00\u001b[0m pm:\n",
       "\n",
       "\u001b[1;92m3:00\u001b[0m pm + \u001b[1;36m1\u001b[0m hour \u001b[1;36m6\u001b[0m minutes ≈ \u001b[1;92m4:06\u001b[0m pm\n",
       "\n",
       "\u001b[1;32mThe two trains will meet at approximately \u001b[0m\u001b[1;32m4:06\u001b[0m\u001b[1;32m pm.\u001b[0m\n"
      ]
     },
     "metadata": {},
     "output_type": "display_data"
    }
   ],
   "source": [
    "task = \"A train leaves Boston at 2:00 pm traveling 60 mph. Another train leaves New York at 3:00 pm traveling 80 mph toward Boston. When do they meet?\"\n",
    "todos = []\n",
    "response = await Runner.run(agent, task)\n",
    "Console().print(\"\\n\\n\" + response.final_output)"
   ]
  },
  {
   "cell_type": "code",
   "execution_count": 8,
   "id": "ee7f491b",
   "metadata": {},
   "outputs": [
    {
     "ename": "DockerException",
     "evalue": "Error while fetching server API version: ('Connection aborted.', FileNotFoundError(2, 'No such file or directory'))",
     "output_type": "error",
     "traceback": [
      "\u001b[31m---------------------------------------------------------------------------\u001b[39m",
      "\u001b[31mFileNotFoundError\u001b[39m                         Traceback (most recent call last)",
      "\u001b[36mFile \u001b[39m\u001b[32m~/Desktop/SDSBootcamp/Set-UP/sds/.venv/lib/python3.12/site-packages/urllib3/connectionpool.py:787\u001b[39m, in \u001b[36mHTTPConnectionPool.urlopen\u001b[39m\u001b[34m(self, method, url, body, headers, retries, redirect, assert_same_host, timeout, pool_timeout, release_conn, chunked, body_pos, preload_content, decode_content, **response_kw)\u001b[39m\n\u001b[32m    786\u001b[39m \u001b[38;5;66;03m# Make the request on the HTTPConnection object\u001b[39;00m\n\u001b[32m--> \u001b[39m\u001b[32m787\u001b[39m response = \u001b[38;5;28;43mself\u001b[39;49m\u001b[43m.\u001b[49m\u001b[43m_make_request\u001b[49m\u001b[43m(\u001b[49m\n\u001b[32m    788\u001b[39m \u001b[43m    \u001b[49m\u001b[43mconn\u001b[49m\u001b[43m,\u001b[49m\n\u001b[32m    789\u001b[39m \u001b[43m    \u001b[49m\u001b[43mmethod\u001b[49m\u001b[43m,\u001b[49m\n\u001b[32m    790\u001b[39m \u001b[43m    \u001b[49m\u001b[43murl\u001b[49m\u001b[43m,\u001b[49m\n\u001b[32m    791\u001b[39m \u001b[43m    \u001b[49m\u001b[43mtimeout\u001b[49m\u001b[43m=\u001b[49m\u001b[43mtimeout_obj\u001b[49m\u001b[43m,\u001b[49m\n\u001b[32m    792\u001b[39m \u001b[43m    \u001b[49m\u001b[43mbody\u001b[49m\u001b[43m=\u001b[49m\u001b[43mbody\u001b[49m\u001b[43m,\u001b[49m\n\u001b[32m    793\u001b[39m \u001b[43m    \u001b[49m\u001b[43mheaders\u001b[49m\u001b[43m=\u001b[49m\u001b[43mheaders\u001b[49m\u001b[43m,\u001b[49m\n\u001b[32m    794\u001b[39m \u001b[43m    \u001b[49m\u001b[43mchunked\u001b[49m\u001b[43m=\u001b[49m\u001b[43mchunked\u001b[49m\u001b[43m,\u001b[49m\n\u001b[32m    795\u001b[39m \u001b[43m    \u001b[49m\u001b[43mretries\u001b[49m\u001b[43m=\u001b[49m\u001b[43mretries\u001b[49m\u001b[43m,\u001b[49m\n\u001b[32m    796\u001b[39m \u001b[43m    \u001b[49m\u001b[43mresponse_conn\u001b[49m\u001b[43m=\u001b[49m\u001b[43mresponse_conn\u001b[49m\u001b[43m,\u001b[49m\n\u001b[32m    797\u001b[39m \u001b[43m    \u001b[49m\u001b[43mpreload_content\u001b[49m\u001b[43m=\u001b[49m\u001b[43mpreload_content\u001b[49m\u001b[43m,\u001b[49m\n\u001b[32m    798\u001b[39m \u001b[43m    \u001b[49m\u001b[43mdecode_content\u001b[49m\u001b[43m=\u001b[49m\u001b[43mdecode_content\u001b[49m\u001b[43m,\u001b[49m\n\u001b[32m    799\u001b[39m \u001b[43m    \u001b[49m\u001b[43m*\u001b[49m\u001b[43m*\u001b[49m\u001b[43mresponse_kw\u001b[49m\u001b[43m,\u001b[49m\n\u001b[32m    800\u001b[39m \u001b[43m\u001b[49m\u001b[43m)\u001b[49m\n\u001b[32m    802\u001b[39m \u001b[38;5;66;03m# Everything went great!\u001b[39;00m\n",
      "\u001b[36mFile \u001b[39m\u001b[32m~/Desktop/SDSBootcamp/Set-UP/sds/.venv/lib/python3.12/site-packages/urllib3/connectionpool.py:493\u001b[39m, in \u001b[36mHTTPConnectionPool._make_request\u001b[39m\u001b[34m(self, conn, method, url, body, headers, retries, timeout, chunked, response_conn, preload_content, decode_content, enforce_content_length)\u001b[39m\n\u001b[32m    492\u001b[39m \u001b[38;5;28;01mtry\u001b[39;00m:\n\u001b[32m--> \u001b[39m\u001b[32m493\u001b[39m     \u001b[43mconn\u001b[49m\u001b[43m.\u001b[49m\u001b[43mrequest\u001b[49m\u001b[43m(\u001b[49m\n\u001b[32m    494\u001b[39m \u001b[43m        \u001b[49m\u001b[43mmethod\u001b[49m\u001b[43m,\u001b[49m\n\u001b[32m    495\u001b[39m \u001b[43m        \u001b[49m\u001b[43murl\u001b[49m\u001b[43m,\u001b[49m\n\u001b[32m    496\u001b[39m \u001b[43m        \u001b[49m\u001b[43mbody\u001b[49m\u001b[43m=\u001b[49m\u001b[43mbody\u001b[49m\u001b[43m,\u001b[49m\n\u001b[32m    497\u001b[39m \u001b[43m        \u001b[49m\u001b[43mheaders\u001b[49m\u001b[43m=\u001b[49m\u001b[43mheaders\u001b[49m\u001b[43m,\u001b[49m\n\u001b[32m    498\u001b[39m \u001b[43m        \u001b[49m\u001b[43mchunked\u001b[49m\u001b[43m=\u001b[49m\u001b[43mchunked\u001b[49m\u001b[43m,\u001b[49m\n\u001b[32m    499\u001b[39m \u001b[43m        \u001b[49m\u001b[43mpreload_content\u001b[49m\u001b[43m=\u001b[49m\u001b[43mpreload_content\u001b[49m\u001b[43m,\u001b[49m\n\u001b[32m    500\u001b[39m \u001b[43m        \u001b[49m\u001b[43mdecode_content\u001b[49m\u001b[43m=\u001b[49m\u001b[43mdecode_content\u001b[49m\u001b[43m,\u001b[49m\n\u001b[32m    501\u001b[39m \u001b[43m        \u001b[49m\u001b[43menforce_content_length\u001b[49m\u001b[43m=\u001b[49m\u001b[43menforce_content_length\u001b[49m\u001b[43m,\u001b[49m\n\u001b[32m    502\u001b[39m \u001b[43m    \u001b[49m\u001b[43m)\u001b[49m\n\u001b[32m    504\u001b[39m \u001b[38;5;66;03m# We are swallowing BrokenPipeError (errno.EPIPE) since the server is\u001b[39;00m\n\u001b[32m    505\u001b[39m \u001b[38;5;66;03m# legitimately able to close the connection after sending a valid response.\u001b[39;00m\n\u001b[32m    506\u001b[39m \u001b[38;5;66;03m# With this behaviour, the received response is still readable.\u001b[39;00m\n",
      "\u001b[36mFile \u001b[39m\u001b[32m~/Desktop/SDSBootcamp/Set-UP/sds/.venv/lib/python3.12/site-packages/urllib3/connection.py:494\u001b[39m, in \u001b[36mHTTPConnection.request\u001b[39m\u001b[34m(self, method, url, body, headers, chunked, preload_content, decode_content, enforce_content_length)\u001b[39m\n\u001b[32m    493\u001b[39m     \u001b[38;5;28mself\u001b[39m.putheader(header, value)\n\u001b[32m--> \u001b[39m\u001b[32m494\u001b[39m \u001b[38;5;28;43mself\u001b[39;49m\u001b[43m.\u001b[49m\u001b[43mendheaders\u001b[49m\u001b[43m(\u001b[49m\u001b[43m)\u001b[49m\n\u001b[32m    496\u001b[39m \u001b[38;5;66;03m# If we're given a body we start sending that in chunks.\u001b[39;00m\n",
      "\u001b[36mFile \u001b[39m\u001b[32m~/.local/share/uv/python/cpython-3.12.11-macos-aarch64-none/lib/python3.12/http/client.py:1333\u001b[39m, in \u001b[36mHTTPConnection.endheaders\u001b[39m\u001b[34m(self, message_body, encode_chunked)\u001b[39m\n\u001b[32m   1332\u001b[39m     \u001b[38;5;28;01mraise\u001b[39;00m CannotSendHeader()\n\u001b[32m-> \u001b[39m\u001b[32m1333\u001b[39m \u001b[38;5;28;43mself\u001b[39;49m\u001b[43m.\u001b[49m\u001b[43m_send_output\u001b[49m\u001b[43m(\u001b[49m\u001b[43mmessage_body\u001b[49m\u001b[43m,\u001b[49m\u001b[43m \u001b[49m\u001b[43mencode_chunked\u001b[49m\u001b[43m=\u001b[49m\u001b[43mencode_chunked\u001b[49m\u001b[43m)\u001b[49m\n",
      "\u001b[36mFile \u001b[39m\u001b[32m~/.local/share/uv/python/cpython-3.12.11-macos-aarch64-none/lib/python3.12/http/client.py:1093\u001b[39m, in \u001b[36mHTTPConnection._send_output\u001b[39m\u001b[34m(self, message_body, encode_chunked)\u001b[39m\n\u001b[32m   1092\u001b[39m \u001b[38;5;28;01mdel\u001b[39;00m \u001b[38;5;28mself\u001b[39m._buffer[:]\n\u001b[32m-> \u001b[39m\u001b[32m1093\u001b[39m \u001b[38;5;28;43mself\u001b[39;49m\u001b[43m.\u001b[49m\u001b[43msend\u001b[49m\u001b[43m(\u001b[49m\u001b[43mmsg\u001b[49m\u001b[43m)\u001b[49m\n\u001b[32m   1095\u001b[39m \u001b[38;5;28;01mif\u001b[39;00m message_body \u001b[38;5;129;01mis\u001b[39;00m \u001b[38;5;129;01mnot\u001b[39;00m \u001b[38;5;28;01mNone\u001b[39;00m:\n\u001b[32m   1096\u001b[39m \n\u001b[32m   1097\u001b[39m     \u001b[38;5;66;03m# create a consistent interface to message_body\u001b[39;00m\n",
      "\u001b[36mFile \u001b[39m\u001b[32m~/.local/share/uv/python/cpython-3.12.11-macos-aarch64-none/lib/python3.12/http/client.py:1037\u001b[39m, in \u001b[36mHTTPConnection.send\u001b[39m\u001b[34m(self, data)\u001b[39m\n\u001b[32m   1036\u001b[39m \u001b[38;5;28;01mif\u001b[39;00m \u001b[38;5;28mself\u001b[39m.auto_open:\n\u001b[32m-> \u001b[39m\u001b[32m1037\u001b[39m     \u001b[38;5;28;43mself\u001b[39;49m\u001b[43m.\u001b[49m\u001b[43mconnect\u001b[49m\u001b[43m(\u001b[49m\u001b[43m)\u001b[49m\n\u001b[32m   1038\u001b[39m \u001b[38;5;28;01melse\u001b[39;00m:\n",
      "\u001b[36mFile \u001b[39m\u001b[32m~/Desktop/SDSBootcamp/Set-UP/sds/.venv/lib/python3.12/site-packages/docker/transport/unixconn.py:26\u001b[39m, in \u001b[36mUnixHTTPConnection.connect\u001b[39m\u001b[34m(self)\u001b[39m\n\u001b[32m     25\u001b[39m sock.settimeout(\u001b[38;5;28mself\u001b[39m.timeout)\n\u001b[32m---> \u001b[39m\u001b[32m26\u001b[39m \u001b[43msock\u001b[49m\u001b[43m.\u001b[49m\u001b[43mconnect\u001b[49m\u001b[43m(\u001b[49m\u001b[38;5;28;43mself\u001b[39;49m\u001b[43m.\u001b[49m\u001b[43munix_socket\u001b[49m\u001b[43m)\u001b[49m\n\u001b[32m     27\u001b[39m \u001b[38;5;28mself\u001b[39m.sock = sock\n",
      "\u001b[31mFileNotFoundError\u001b[39m: [Errno 2] No such file or directory",
      "\nDuring handling of the above exception, another exception occurred:\n",
      "\u001b[31mProtocolError\u001b[39m                             Traceback (most recent call last)",
      "\u001b[36mFile \u001b[39m\u001b[32m~/Desktop/SDSBootcamp/Set-UP/sds/.venv/lib/python3.12/site-packages/requests/adapters.py:644\u001b[39m, in \u001b[36mHTTPAdapter.send\u001b[39m\u001b[34m(self, request, stream, timeout, verify, cert, proxies)\u001b[39m\n\u001b[32m    643\u001b[39m \u001b[38;5;28;01mtry\u001b[39;00m:\n\u001b[32m--> \u001b[39m\u001b[32m644\u001b[39m     resp = \u001b[43mconn\u001b[49m\u001b[43m.\u001b[49m\u001b[43murlopen\u001b[49m\u001b[43m(\u001b[49m\n\u001b[32m    645\u001b[39m \u001b[43m        \u001b[49m\u001b[43mmethod\u001b[49m\u001b[43m=\u001b[49m\u001b[43mrequest\u001b[49m\u001b[43m.\u001b[49m\u001b[43mmethod\u001b[49m\u001b[43m,\u001b[49m\n\u001b[32m    646\u001b[39m \u001b[43m        \u001b[49m\u001b[43murl\u001b[49m\u001b[43m=\u001b[49m\u001b[43murl\u001b[49m\u001b[43m,\u001b[49m\n\u001b[32m    647\u001b[39m \u001b[43m        \u001b[49m\u001b[43mbody\u001b[49m\u001b[43m=\u001b[49m\u001b[43mrequest\u001b[49m\u001b[43m.\u001b[49m\u001b[43mbody\u001b[49m\u001b[43m,\u001b[49m\n\u001b[32m    648\u001b[39m \u001b[43m        \u001b[49m\u001b[43mheaders\u001b[49m\u001b[43m=\u001b[49m\u001b[43mrequest\u001b[49m\u001b[43m.\u001b[49m\u001b[43mheaders\u001b[49m\u001b[43m,\u001b[49m\n\u001b[32m    649\u001b[39m \u001b[43m        \u001b[49m\u001b[43mredirect\u001b[49m\u001b[43m=\u001b[49m\u001b[38;5;28;43;01mFalse\u001b[39;49;00m\u001b[43m,\u001b[49m\n\u001b[32m    650\u001b[39m \u001b[43m        \u001b[49m\u001b[43massert_same_host\u001b[49m\u001b[43m=\u001b[49m\u001b[38;5;28;43;01mFalse\u001b[39;49;00m\u001b[43m,\u001b[49m\n\u001b[32m    651\u001b[39m \u001b[43m        \u001b[49m\u001b[43mpreload_content\u001b[49m\u001b[43m=\u001b[49m\u001b[38;5;28;43;01mFalse\u001b[39;49;00m\u001b[43m,\u001b[49m\n\u001b[32m    652\u001b[39m \u001b[43m        \u001b[49m\u001b[43mdecode_content\u001b[49m\u001b[43m=\u001b[49m\u001b[38;5;28;43;01mFalse\u001b[39;49;00m\u001b[43m,\u001b[49m\n\u001b[32m    653\u001b[39m \u001b[43m        \u001b[49m\u001b[43mretries\u001b[49m\u001b[43m=\u001b[49m\u001b[38;5;28;43mself\u001b[39;49m\u001b[43m.\u001b[49m\u001b[43mmax_retries\u001b[49m\u001b[43m,\u001b[49m\n\u001b[32m    654\u001b[39m \u001b[43m        \u001b[49m\u001b[43mtimeout\u001b[49m\u001b[43m=\u001b[49m\u001b[43mtimeout\u001b[49m\u001b[43m,\u001b[49m\n\u001b[32m    655\u001b[39m \u001b[43m        \u001b[49m\u001b[43mchunked\u001b[49m\u001b[43m=\u001b[49m\u001b[43mchunked\u001b[49m\u001b[43m,\u001b[49m\n\u001b[32m    656\u001b[39m \u001b[43m    \u001b[49m\u001b[43m)\u001b[49m\n\u001b[32m    658\u001b[39m \u001b[38;5;28;01mexcept\u001b[39;00m (ProtocolError, \u001b[38;5;167;01mOSError\u001b[39;00m) \u001b[38;5;28;01mas\u001b[39;00m err:\n",
      "\u001b[36mFile \u001b[39m\u001b[32m~/Desktop/SDSBootcamp/Set-UP/sds/.venv/lib/python3.12/site-packages/urllib3/connectionpool.py:841\u001b[39m, in \u001b[36mHTTPConnectionPool.urlopen\u001b[39m\u001b[34m(self, method, url, body, headers, retries, redirect, assert_same_host, timeout, pool_timeout, release_conn, chunked, body_pos, preload_content, decode_content, **response_kw)\u001b[39m\n\u001b[32m    839\u001b[39m     new_e = ProtocolError(\u001b[33m\"\u001b[39m\u001b[33mConnection aborted.\u001b[39m\u001b[33m\"\u001b[39m, new_e)\n\u001b[32m--> \u001b[39m\u001b[32m841\u001b[39m retries = \u001b[43mretries\u001b[49m\u001b[43m.\u001b[49m\u001b[43mincrement\u001b[49m\u001b[43m(\u001b[49m\n\u001b[32m    842\u001b[39m \u001b[43m    \u001b[49m\u001b[43mmethod\u001b[49m\u001b[43m,\u001b[49m\u001b[43m \u001b[49m\u001b[43murl\u001b[49m\u001b[43m,\u001b[49m\u001b[43m \u001b[49m\u001b[43merror\u001b[49m\u001b[43m=\u001b[49m\u001b[43mnew_e\u001b[49m\u001b[43m,\u001b[49m\u001b[43m \u001b[49m\u001b[43m_pool\u001b[49m\u001b[43m=\u001b[49m\u001b[38;5;28;43mself\u001b[39;49m\u001b[43m,\u001b[49m\u001b[43m \u001b[49m\u001b[43m_stacktrace\u001b[49m\u001b[43m=\u001b[49m\u001b[43msys\u001b[49m\u001b[43m.\u001b[49m\u001b[43mexc_info\u001b[49m\u001b[43m(\u001b[49m\u001b[43m)\u001b[49m\u001b[43m[\u001b[49m\u001b[32;43m2\u001b[39;49m\u001b[43m]\u001b[49m\n\u001b[32m    843\u001b[39m \u001b[43m\u001b[49m\u001b[43m)\u001b[49m\n\u001b[32m    844\u001b[39m retries.sleep()\n",
      "\u001b[36mFile \u001b[39m\u001b[32m~/Desktop/SDSBootcamp/Set-UP/sds/.venv/lib/python3.12/site-packages/urllib3/util/retry.py:474\u001b[39m, in \u001b[36mRetry.increment\u001b[39m\u001b[34m(self, method, url, response, error, _pool, _stacktrace)\u001b[39m\n\u001b[32m    473\u001b[39m \u001b[38;5;28;01mif\u001b[39;00m read \u001b[38;5;129;01mis\u001b[39;00m \u001b[38;5;28;01mFalse\u001b[39;00m \u001b[38;5;129;01mor\u001b[39;00m method \u001b[38;5;129;01mis\u001b[39;00m \u001b[38;5;28;01mNone\u001b[39;00m \u001b[38;5;129;01mor\u001b[39;00m \u001b[38;5;129;01mnot\u001b[39;00m \u001b[38;5;28mself\u001b[39m._is_method_retryable(method):\n\u001b[32m--> \u001b[39m\u001b[32m474\u001b[39m     \u001b[38;5;28;01mraise\u001b[39;00m \u001b[43mreraise\u001b[49m\u001b[43m(\u001b[49m\u001b[38;5;28;43mtype\u001b[39;49m\u001b[43m(\u001b[49m\u001b[43merror\u001b[49m\u001b[43m)\u001b[49m\u001b[43m,\u001b[49m\u001b[43m \u001b[49m\u001b[43merror\u001b[49m\u001b[43m,\u001b[49m\u001b[43m \u001b[49m\u001b[43m_stacktrace\u001b[49m\u001b[43m)\u001b[49m\n\u001b[32m    475\u001b[39m \u001b[38;5;28;01melif\u001b[39;00m read \u001b[38;5;129;01mis\u001b[39;00m \u001b[38;5;129;01mnot\u001b[39;00m \u001b[38;5;28;01mNone\u001b[39;00m:\n",
      "\u001b[36mFile \u001b[39m\u001b[32m~/Desktop/SDSBootcamp/Set-UP/sds/.venv/lib/python3.12/site-packages/urllib3/util/util.py:38\u001b[39m, in \u001b[36mreraise\u001b[39m\u001b[34m(tp, value, tb)\u001b[39m\n\u001b[32m     37\u001b[39m \u001b[38;5;28;01mif\u001b[39;00m value.__traceback__ \u001b[38;5;129;01mis\u001b[39;00m \u001b[38;5;129;01mnot\u001b[39;00m tb:\n\u001b[32m---> \u001b[39m\u001b[32m38\u001b[39m     \u001b[38;5;28;01mraise\u001b[39;00m value.with_traceback(tb)\n\u001b[32m     39\u001b[39m \u001b[38;5;28;01mraise\u001b[39;00m value\n",
      "\u001b[36mFile \u001b[39m\u001b[32m~/Desktop/SDSBootcamp/Set-UP/sds/.venv/lib/python3.12/site-packages/urllib3/connectionpool.py:787\u001b[39m, in \u001b[36mHTTPConnectionPool.urlopen\u001b[39m\u001b[34m(self, method, url, body, headers, retries, redirect, assert_same_host, timeout, pool_timeout, release_conn, chunked, body_pos, preload_content, decode_content, **response_kw)\u001b[39m\n\u001b[32m    786\u001b[39m \u001b[38;5;66;03m# Make the request on the HTTPConnection object\u001b[39;00m\n\u001b[32m--> \u001b[39m\u001b[32m787\u001b[39m response = \u001b[38;5;28;43mself\u001b[39;49m\u001b[43m.\u001b[49m\u001b[43m_make_request\u001b[49m\u001b[43m(\u001b[49m\n\u001b[32m    788\u001b[39m \u001b[43m    \u001b[49m\u001b[43mconn\u001b[49m\u001b[43m,\u001b[49m\n\u001b[32m    789\u001b[39m \u001b[43m    \u001b[49m\u001b[43mmethod\u001b[49m\u001b[43m,\u001b[49m\n\u001b[32m    790\u001b[39m \u001b[43m    \u001b[49m\u001b[43murl\u001b[49m\u001b[43m,\u001b[49m\n\u001b[32m    791\u001b[39m \u001b[43m    \u001b[49m\u001b[43mtimeout\u001b[49m\u001b[43m=\u001b[49m\u001b[43mtimeout_obj\u001b[49m\u001b[43m,\u001b[49m\n\u001b[32m    792\u001b[39m \u001b[43m    \u001b[49m\u001b[43mbody\u001b[49m\u001b[43m=\u001b[49m\u001b[43mbody\u001b[49m\u001b[43m,\u001b[49m\n\u001b[32m    793\u001b[39m \u001b[43m    \u001b[49m\u001b[43mheaders\u001b[49m\u001b[43m=\u001b[49m\u001b[43mheaders\u001b[49m\u001b[43m,\u001b[49m\n\u001b[32m    794\u001b[39m \u001b[43m    \u001b[49m\u001b[43mchunked\u001b[49m\u001b[43m=\u001b[49m\u001b[43mchunked\u001b[49m\u001b[43m,\u001b[49m\n\u001b[32m    795\u001b[39m \u001b[43m    \u001b[49m\u001b[43mretries\u001b[49m\u001b[43m=\u001b[49m\u001b[43mretries\u001b[49m\u001b[43m,\u001b[49m\n\u001b[32m    796\u001b[39m \u001b[43m    \u001b[49m\u001b[43mresponse_conn\u001b[49m\u001b[43m=\u001b[49m\u001b[43mresponse_conn\u001b[49m\u001b[43m,\u001b[49m\n\u001b[32m    797\u001b[39m \u001b[43m    \u001b[49m\u001b[43mpreload_content\u001b[49m\u001b[43m=\u001b[49m\u001b[43mpreload_content\u001b[49m\u001b[43m,\u001b[49m\n\u001b[32m    798\u001b[39m \u001b[43m    \u001b[49m\u001b[43mdecode_content\u001b[49m\u001b[43m=\u001b[49m\u001b[43mdecode_content\u001b[49m\u001b[43m,\u001b[49m\n\u001b[32m    799\u001b[39m \u001b[43m    \u001b[49m\u001b[43m*\u001b[49m\u001b[43m*\u001b[49m\u001b[43mresponse_kw\u001b[49m\u001b[43m,\u001b[49m\n\u001b[32m    800\u001b[39m \u001b[43m\u001b[49m\u001b[43m)\u001b[49m\n\u001b[32m    802\u001b[39m \u001b[38;5;66;03m# Everything went great!\u001b[39;00m\n",
      "\u001b[36mFile \u001b[39m\u001b[32m~/Desktop/SDSBootcamp/Set-UP/sds/.venv/lib/python3.12/site-packages/urllib3/connectionpool.py:493\u001b[39m, in \u001b[36mHTTPConnectionPool._make_request\u001b[39m\u001b[34m(self, conn, method, url, body, headers, retries, timeout, chunked, response_conn, preload_content, decode_content, enforce_content_length)\u001b[39m\n\u001b[32m    492\u001b[39m \u001b[38;5;28;01mtry\u001b[39;00m:\n\u001b[32m--> \u001b[39m\u001b[32m493\u001b[39m     \u001b[43mconn\u001b[49m\u001b[43m.\u001b[49m\u001b[43mrequest\u001b[49m\u001b[43m(\u001b[49m\n\u001b[32m    494\u001b[39m \u001b[43m        \u001b[49m\u001b[43mmethod\u001b[49m\u001b[43m,\u001b[49m\n\u001b[32m    495\u001b[39m \u001b[43m        \u001b[49m\u001b[43murl\u001b[49m\u001b[43m,\u001b[49m\n\u001b[32m    496\u001b[39m \u001b[43m        \u001b[49m\u001b[43mbody\u001b[49m\u001b[43m=\u001b[49m\u001b[43mbody\u001b[49m\u001b[43m,\u001b[49m\n\u001b[32m    497\u001b[39m \u001b[43m        \u001b[49m\u001b[43mheaders\u001b[49m\u001b[43m=\u001b[49m\u001b[43mheaders\u001b[49m\u001b[43m,\u001b[49m\n\u001b[32m    498\u001b[39m \u001b[43m        \u001b[49m\u001b[43mchunked\u001b[49m\u001b[43m=\u001b[49m\u001b[43mchunked\u001b[49m\u001b[43m,\u001b[49m\n\u001b[32m    499\u001b[39m \u001b[43m        \u001b[49m\u001b[43mpreload_content\u001b[49m\u001b[43m=\u001b[49m\u001b[43mpreload_content\u001b[49m\u001b[43m,\u001b[49m\n\u001b[32m    500\u001b[39m \u001b[43m        \u001b[49m\u001b[43mdecode_content\u001b[49m\u001b[43m=\u001b[49m\u001b[43mdecode_content\u001b[49m\u001b[43m,\u001b[49m\n\u001b[32m    501\u001b[39m \u001b[43m        \u001b[49m\u001b[43menforce_content_length\u001b[49m\u001b[43m=\u001b[49m\u001b[43menforce_content_length\u001b[49m\u001b[43m,\u001b[49m\n\u001b[32m    502\u001b[39m \u001b[43m    \u001b[49m\u001b[43m)\u001b[49m\n\u001b[32m    504\u001b[39m \u001b[38;5;66;03m# We are swallowing BrokenPipeError (errno.EPIPE) since the server is\u001b[39;00m\n\u001b[32m    505\u001b[39m \u001b[38;5;66;03m# legitimately able to close the connection after sending a valid response.\u001b[39;00m\n\u001b[32m    506\u001b[39m \u001b[38;5;66;03m# With this behaviour, the received response is still readable.\u001b[39;00m\n",
      "\u001b[36mFile \u001b[39m\u001b[32m~/Desktop/SDSBootcamp/Set-UP/sds/.venv/lib/python3.12/site-packages/urllib3/connection.py:494\u001b[39m, in \u001b[36mHTTPConnection.request\u001b[39m\u001b[34m(self, method, url, body, headers, chunked, preload_content, decode_content, enforce_content_length)\u001b[39m\n\u001b[32m    493\u001b[39m     \u001b[38;5;28mself\u001b[39m.putheader(header, value)\n\u001b[32m--> \u001b[39m\u001b[32m494\u001b[39m \u001b[38;5;28;43mself\u001b[39;49m\u001b[43m.\u001b[49m\u001b[43mendheaders\u001b[49m\u001b[43m(\u001b[49m\u001b[43m)\u001b[49m\n\u001b[32m    496\u001b[39m \u001b[38;5;66;03m# If we're given a body we start sending that in chunks.\u001b[39;00m\n",
      "\u001b[36mFile \u001b[39m\u001b[32m~/.local/share/uv/python/cpython-3.12.11-macos-aarch64-none/lib/python3.12/http/client.py:1333\u001b[39m, in \u001b[36mHTTPConnection.endheaders\u001b[39m\u001b[34m(self, message_body, encode_chunked)\u001b[39m\n\u001b[32m   1332\u001b[39m     \u001b[38;5;28;01mraise\u001b[39;00m CannotSendHeader()\n\u001b[32m-> \u001b[39m\u001b[32m1333\u001b[39m \u001b[38;5;28;43mself\u001b[39;49m\u001b[43m.\u001b[49m\u001b[43m_send_output\u001b[49m\u001b[43m(\u001b[49m\u001b[43mmessage_body\u001b[49m\u001b[43m,\u001b[49m\u001b[43m \u001b[49m\u001b[43mencode_chunked\u001b[49m\u001b[43m=\u001b[49m\u001b[43mencode_chunked\u001b[49m\u001b[43m)\u001b[49m\n",
      "\u001b[36mFile \u001b[39m\u001b[32m~/.local/share/uv/python/cpython-3.12.11-macos-aarch64-none/lib/python3.12/http/client.py:1093\u001b[39m, in \u001b[36mHTTPConnection._send_output\u001b[39m\u001b[34m(self, message_body, encode_chunked)\u001b[39m\n\u001b[32m   1092\u001b[39m \u001b[38;5;28;01mdel\u001b[39;00m \u001b[38;5;28mself\u001b[39m._buffer[:]\n\u001b[32m-> \u001b[39m\u001b[32m1093\u001b[39m \u001b[38;5;28;43mself\u001b[39;49m\u001b[43m.\u001b[49m\u001b[43msend\u001b[49m\u001b[43m(\u001b[49m\u001b[43mmsg\u001b[49m\u001b[43m)\u001b[49m\n\u001b[32m   1095\u001b[39m \u001b[38;5;28;01mif\u001b[39;00m message_body \u001b[38;5;129;01mis\u001b[39;00m \u001b[38;5;129;01mnot\u001b[39;00m \u001b[38;5;28;01mNone\u001b[39;00m:\n\u001b[32m   1096\u001b[39m \n\u001b[32m   1097\u001b[39m     \u001b[38;5;66;03m# create a consistent interface to message_body\u001b[39;00m\n",
      "\u001b[36mFile \u001b[39m\u001b[32m~/.local/share/uv/python/cpython-3.12.11-macos-aarch64-none/lib/python3.12/http/client.py:1037\u001b[39m, in \u001b[36mHTTPConnection.send\u001b[39m\u001b[34m(self, data)\u001b[39m\n\u001b[32m   1036\u001b[39m \u001b[38;5;28;01mif\u001b[39;00m \u001b[38;5;28mself\u001b[39m.auto_open:\n\u001b[32m-> \u001b[39m\u001b[32m1037\u001b[39m     \u001b[38;5;28;43mself\u001b[39;49m\u001b[43m.\u001b[49m\u001b[43mconnect\u001b[49m\u001b[43m(\u001b[49m\u001b[43m)\u001b[49m\n\u001b[32m   1038\u001b[39m \u001b[38;5;28;01melse\u001b[39;00m:\n",
      "\u001b[36mFile \u001b[39m\u001b[32m~/Desktop/SDSBootcamp/Set-UP/sds/.venv/lib/python3.12/site-packages/docker/transport/unixconn.py:26\u001b[39m, in \u001b[36mUnixHTTPConnection.connect\u001b[39m\u001b[34m(self)\u001b[39m\n\u001b[32m     25\u001b[39m sock.settimeout(\u001b[38;5;28mself\u001b[39m.timeout)\n\u001b[32m---> \u001b[39m\u001b[32m26\u001b[39m \u001b[43msock\u001b[49m\u001b[43m.\u001b[49m\u001b[43mconnect\u001b[49m\u001b[43m(\u001b[49m\u001b[38;5;28;43mself\u001b[39;49m\u001b[43m.\u001b[49m\u001b[43munix_socket\u001b[49m\u001b[43m)\u001b[49m\n\u001b[32m     27\u001b[39m \u001b[38;5;28mself\u001b[39m.sock = sock\n",
      "\u001b[31mProtocolError\u001b[39m: ('Connection aborted.', FileNotFoundError(2, 'No such file or directory'))",
      "\nDuring handling of the above exception, another exception occurred:\n",
      "\u001b[31mConnectionError\u001b[39m                           Traceback (most recent call last)",
      "\u001b[36mFile \u001b[39m\u001b[32m~/Desktop/SDSBootcamp/Set-UP/sds/.venv/lib/python3.12/site-packages/docker/api/client.py:223\u001b[39m, in \u001b[36mAPIClient._retrieve_server_version\u001b[39m\u001b[34m(self)\u001b[39m\n\u001b[32m    222\u001b[39m \u001b[38;5;28;01mtry\u001b[39;00m:\n\u001b[32m--> \u001b[39m\u001b[32m223\u001b[39m     \u001b[38;5;28;01mreturn\u001b[39;00m \u001b[38;5;28;43mself\u001b[39;49m\u001b[43m.\u001b[49m\u001b[43mversion\u001b[49m\u001b[43m(\u001b[49m\u001b[43mapi_version\u001b[49m\u001b[43m=\u001b[49m\u001b[38;5;28;43;01mFalse\u001b[39;49;00m\u001b[43m)\u001b[49m[\u001b[33m\"\u001b[39m\u001b[33mApiVersion\u001b[39m\u001b[33m\"\u001b[39m]\n\u001b[32m    224\u001b[39m \u001b[38;5;28;01mexcept\u001b[39;00m \u001b[38;5;167;01mKeyError\u001b[39;00m \u001b[38;5;28;01mas\u001b[39;00m ke:\n",
      "\u001b[36mFile \u001b[39m\u001b[32m~/Desktop/SDSBootcamp/Set-UP/sds/.venv/lib/python3.12/site-packages/docker/api/daemon.py:181\u001b[39m, in \u001b[36mDaemonApiMixin.version\u001b[39m\u001b[34m(self, api_version)\u001b[39m\n\u001b[32m    180\u001b[39m url = \u001b[38;5;28mself\u001b[39m._url(\u001b[33m\"\u001b[39m\u001b[33m/version\u001b[39m\u001b[33m\"\u001b[39m, versioned_api=api_version)\n\u001b[32m--> \u001b[39m\u001b[32m181\u001b[39m \u001b[38;5;28;01mreturn\u001b[39;00m \u001b[38;5;28mself\u001b[39m._result(\u001b[38;5;28;43mself\u001b[39;49m\u001b[43m.\u001b[49m\u001b[43m_get\u001b[49m\u001b[43m(\u001b[49m\u001b[43murl\u001b[49m\u001b[43m)\u001b[49m, json=\u001b[38;5;28;01mTrue\u001b[39;00m)\n",
      "\u001b[36mFile \u001b[39m\u001b[32m~/Desktop/SDSBootcamp/Set-UP/sds/.venv/lib/python3.12/site-packages/docker/utils/decorators.py:44\u001b[39m, in \u001b[36mupdate_headers.<locals>.inner\u001b[39m\u001b[34m(self, *args, **kwargs)\u001b[39m\n\u001b[32m     43\u001b[39m         kwargs[\u001b[33m'\u001b[39m\u001b[33mheaders\u001b[39m\u001b[33m'\u001b[39m].update(\u001b[38;5;28mself\u001b[39m._general_configs[\u001b[33m'\u001b[39m\u001b[33mHttpHeaders\u001b[39m\u001b[33m'\u001b[39m])\n\u001b[32m---> \u001b[39m\u001b[32m44\u001b[39m \u001b[38;5;28;01mreturn\u001b[39;00m \u001b[43mf\u001b[49m\u001b[43m(\u001b[49m\u001b[38;5;28;43mself\u001b[39;49m\u001b[43m,\u001b[49m\u001b[43m \u001b[49m\u001b[43m*\u001b[49m\u001b[43margs\u001b[49m\u001b[43m,\u001b[49m\u001b[43m \u001b[49m\u001b[43m*\u001b[49m\u001b[43m*\u001b[49m\u001b[43mkwargs\u001b[49m\u001b[43m)\u001b[49m\n",
      "\u001b[36mFile \u001b[39m\u001b[32m~/Desktop/SDSBootcamp/Set-UP/sds/.venv/lib/python3.12/site-packages/docker/api/client.py:246\u001b[39m, in \u001b[36mAPIClient._get\u001b[39m\u001b[34m(self, url, **kwargs)\u001b[39m\n\u001b[32m    244\u001b[39m \u001b[38;5;129m@update_headers\u001b[39m\n\u001b[32m    245\u001b[39m \u001b[38;5;28;01mdef\u001b[39;00m\u001b[38;5;250m \u001b[39m\u001b[34m_get\u001b[39m(\u001b[38;5;28mself\u001b[39m, url, **kwargs):\n\u001b[32m--> \u001b[39m\u001b[32m246\u001b[39m     \u001b[38;5;28;01mreturn\u001b[39;00m \u001b[38;5;28;43mself\u001b[39;49m\u001b[43m.\u001b[49m\u001b[43mget\u001b[49m\u001b[43m(\u001b[49m\u001b[43murl\u001b[49m\u001b[43m,\u001b[49m\u001b[43m \u001b[49m\u001b[43m*\u001b[49m\u001b[43m*\u001b[49m\u001b[38;5;28;43mself\u001b[39;49m\u001b[43m.\u001b[49m\u001b[43m_set_request_timeout\u001b[49m\u001b[43m(\u001b[49m\u001b[43mkwargs\u001b[49m\u001b[43m)\u001b[49m\u001b[43m)\u001b[49m\n",
      "\u001b[36mFile \u001b[39m\u001b[32m~/Desktop/SDSBootcamp/Set-UP/sds/.venv/lib/python3.12/site-packages/requests/sessions.py:602\u001b[39m, in \u001b[36mSession.get\u001b[39m\u001b[34m(self, url, **kwargs)\u001b[39m\n\u001b[32m    601\u001b[39m kwargs.setdefault(\u001b[33m\"\u001b[39m\u001b[33mallow_redirects\u001b[39m\u001b[33m\"\u001b[39m, \u001b[38;5;28;01mTrue\u001b[39;00m)\n\u001b[32m--> \u001b[39m\u001b[32m602\u001b[39m \u001b[38;5;28;01mreturn\u001b[39;00m \u001b[38;5;28;43mself\u001b[39;49m\u001b[43m.\u001b[49m\u001b[43mrequest\u001b[49m\u001b[43m(\u001b[49m\u001b[33;43m\"\u001b[39;49m\u001b[33;43mGET\u001b[39;49m\u001b[33;43m\"\u001b[39;49m\u001b[43m,\u001b[49m\u001b[43m \u001b[49m\u001b[43murl\u001b[49m\u001b[43m,\u001b[49m\u001b[43m \u001b[49m\u001b[43m*\u001b[49m\u001b[43m*\u001b[49m\u001b[43mkwargs\u001b[49m\u001b[43m)\u001b[49m\n",
      "\u001b[36mFile \u001b[39m\u001b[32m~/Desktop/SDSBootcamp/Set-UP/sds/.venv/lib/python3.12/site-packages/requests/sessions.py:589\u001b[39m, in \u001b[36mSession.request\u001b[39m\u001b[34m(self, method, url, params, data, headers, cookies, files, auth, timeout, allow_redirects, proxies, hooks, stream, verify, cert, json)\u001b[39m\n\u001b[32m    588\u001b[39m send_kwargs.update(settings)\n\u001b[32m--> \u001b[39m\u001b[32m589\u001b[39m resp = \u001b[38;5;28;43mself\u001b[39;49m\u001b[43m.\u001b[49m\u001b[43msend\u001b[49m\u001b[43m(\u001b[49m\u001b[43mprep\u001b[49m\u001b[43m,\u001b[49m\u001b[43m \u001b[49m\u001b[43m*\u001b[49m\u001b[43m*\u001b[49m\u001b[43msend_kwargs\u001b[49m\u001b[43m)\u001b[49m\n\u001b[32m    591\u001b[39m \u001b[38;5;28;01mreturn\u001b[39;00m resp\n",
      "\u001b[36mFile \u001b[39m\u001b[32m~/Desktop/SDSBootcamp/Set-UP/sds/.venv/lib/python3.12/site-packages/requests/sessions.py:703\u001b[39m, in \u001b[36mSession.send\u001b[39m\u001b[34m(self, request, **kwargs)\u001b[39m\n\u001b[32m    702\u001b[39m \u001b[38;5;66;03m# Send the request\u001b[39;00m\n\u001b[32m--> \u001b[39m\u001b[32m703\u001b[39m r = \u001b[43madapter\u001b[49m\u001b[43m.\u001b[49m\u001b[43msend\u001b[49m\u001b[43m(\u001b[49m\u001b[43mrequest\u001b[49m\u001b[43m,\u001b[49m\u001b[43m \u001b[49m\u001b[43m*\u001b[49m\u001b[43m*\u001b[49m\u001b[43mkwargs\u001b[49m\u001b[43m)\u001b[49m\n\u001b[32m    705\u001b[39m \u001b[38;5;66;03m# Total elapsed time of the request (approximately)\u001b[39;00m\n",
      "\u001b[36mFile \u001b[39m\u001b[32m~/Desktop/SDSBootcamp/Set-UP/sds/.venv/lib/python3.12/site-packages/requests/adapters.py:659\u001b[39m, in \u001b[36mHTTPAdapter.send\u001b[39m\u001b[34m(self, request, stream, timeout, verify, cert, proxies)\u001b[39m\n\u001b[32m    658\u001b[39m \u001b[38;5;28;01mexcept\u001b[39;00m (ProtocolError, \u001b[38;5;167;01mOSError\u001b[39;00m) \u001b[38;5;28;01mas\u001b[39;00m err:\n\u001b[32m--> \u001b[39m\u001b[32m659\u001b[39m     \u001b[38;5;28;01mraise\u001b[39;00m \u001b[38;5;167;01mConnectionError\u001b[39;00m(err, request=request)\n\u001b[32m    661\u001b[39m \u001b[38;5;28;01mexcept\u001b[39;00m MaxRetryError \u001b[38;5;28;01mas\u001b[39;00m e:\n",
      "\u001b[31mConnectionError\u001b[39m: ('Connection aborted.', FileNotFoundError(2, 'No such file or directory'))",
      "\nThe above exception was the direct cause of the following exception:\n",
      "\u001b[31mDockerException\u001b[39m                           Traceback (most recent call last)",
      "\u001b[36mCell\u001b[39m\u001b[36m \u001b[39m\u001b[32mIn[8]\u001b[39m\u001b[32m, line 1\u001b[39m\n\u001b[32m----> \u001b[39m\u001b[32m1\u001b[39m client = \u001b[43mdocker\u001b[49m\u001b[43m.\u001b[49m\u001b[43mfrom_env\u001b[49m\u001b[43m(\u001b[49m\u001b[43m)\u001b[49m\n\u001b[32m      2\u001b[39m image = \u001b[33m\"\u001b[39m\u001b[33mpython:3.12-slim\u001b[39m\u001b[33m\"\u001b[39m\n",
      "\u001b[36mFile \u001b[39m\u001b[32m~/Desktop/SDSBootcamp/Set-UP/sds/.venv/lib/python3.12/site-packages/docker/client.py:94\u001b[39m, in \u001b[36mDockerClient.from_env\u001b[39m\u001b[34m(cls, **kwargs)\u001b[39m\n\u001b[32m     92\u001b[39m version = kwargs.pop(\u001b[33m'\u001b[39m\u001b[33mversion\u001b[39m\u001b[33m'\u001b[39m, \u001b[38;5;28;01mNone\u001b[39;00m)\n\u001b[32m     93\u001b[39m use_ssh_client = kwargs.pop(\u001b[33m'\u001b[39m\u001b[33muse_ssh_client\u001b[39m\u001b[33m'\u001b[39m, \u001b[38;5;28;01mFalse\u001b[39;00m)\n\u001b[32m---> \u001b[39m\u001b[32m94\u001b[39m \u001b[38;5;28;01mreturn\u001b[39;00m \u001b[38;5;28;43mcls\u001b[39;49m\u001b[43m(\u001b[49m\n\u001b[32m     95\u001b[39m \u001b[43m    \u001b[49m\u001b[43mtimeout\u001b[49m\u001b[43m=\u001b[49m\u001b[43mtimeout\u001b[49m\u001b[43m,\u001b[49m\n\u001b[32m     96\u001b[39m \u001b[43m    \u001b[49m\u001b[43mmax_pool_size\u001b[49m\u001b[43m=\u001b[49m\u001b[43mmax_pool_size\u001b[49m\u001b[43m,\u001b[49m\n\u001b[32m     97\u001b[39m \u001b[43m    \u001b[49m\u001b[43mversion\u001b[49m\u001b[43m=\u001b[49m\u001b[43mversion\u001b[49m\u001b[43m,\u001b[49m\n\u001b[32m     98\u001b[39m \u001b[43m    \u001b[49m\u001b[43muse_ssh_client\u001b[49m\u001b[43m=\u001b[49m\u001b[43muse_ssh_client\u001b[49m\u001b[43m,\u001b[49m\n\u001b[32m     99\u001b[39m \u001b[43m    \u001b[49m\u001b[43m*\u001b[49m\u001b[43m*\u001b[49m\u001b[43mkwargs_from_env\u001b[49m\u001b[43m(\u001b[49m\u001b[43m*\u001b[49m\u001b[43m*\u001b[49m\u001b[43mkwargs\u001b[49m\u001b[43m)\u001b[49m\n\u001b[32m    100\u001b[39m \u001b[43m\u001b[49m\u001b[43m)\u001b[49m\n",
      "\u001b[36mFile \u001b[39m\u001b[32m~/Desktop/SDSBootcamp/Set-UP/sds/.venv/lib/python3.12/site-packages/docker/client.py:45\u001b[39m, in \u001b[36mDockerClient.__init__\u001b[39m\u001b[34m(self, *args, **kwargs)\u001b[39m\n\u001b[32m     44\u001b[39m \u001b[38;5;28;01mdef\u001b[39;00m\u001b[38;5;250m \u001b[39m\u001b[34m__init__\u001b[39m(\u001b[38;5;28mself\u001b[39m, *args, **kwargs):\n\u001b[32m---> \u001b[39m\u001b[32m45\u001b[39m     \u001b[38;5;28mself\u001b[39m.api = \u001b[43mAPIClient\u001b[49m\u001b[43m(\u001b[49m\u001b[43m*\u001b[49m\u001b[43margs\u001b[49m\u001b[43m,\u001b[49m\u001b[43m \u001b[49m\u001b[43m*\u001b[49m\u001b[43m*\u001b[49m\u001b[43mkwargs\u001b[49m\u001b[43m)\u001b[49m\n",
      "\u001b[36mFile \u001b[39m\u001b[32m~/Desktop/SDSBootcamp/Set-UP/sds/.venv/lib/python3.12/site-packages/docker/api/client.py:207\u001b[39m, in \u001b[36mAPIClient.__init__\u001b[39m\u001b[34m(self, base_url, version, timeout, tls, user_agent, num_pools, credstore_env, use_ssh_client, max_pool_size)\u001b[39m\n\u001b[32m    202\u001b[39m \u001b[38;5;66;03m# version detection needs to be after unix adapter mounting\u001b[39;00m\n\u001b[32m    203\u001b[39m \u001b[38;5;28;01mif\u001b[39;00m version \u001b[38;5;129;01mis\u001b[39;00m \u001b[38;5;28;01mNone\u001b[39;00m \u001b[38;5;129;01mor\u001b[39;00m (\u001b[38;5;28misinstance\u001b[39m(\n\u001b[32m    204\u001b[39m                         version,\n\u001b[32m    205\u001b[39m                         \u001b[38;5;28mstr\u001b[39m\n\u001b[32m    206\u001b[39m                         ) \u001b[38;5;129;01mand\u001b[39;00m version.lower() == \u001b[33m'\u001b[39m\u001b[33mauto\u001b[39m\u001b[33m'\u001b[39m):\n\u001b[32m--> \u001b[39m\u001b[32m207\u001b[39m     \u001b[38;5;28mself\u001b[39m._version = \u001b[38;5;28;43mself\u001b[39;49m\u001b[43m.\u001b[49m\u001b[43m_retrieve_server_version\u001b[49m\u001b[43m(\u001b[49m\u001b[43m)\u001b[49m\n\u001b[32m    208\u001b[39m \u001b[38;5;28;01melse\u001b[39;00m:\n\u001b[32m    209\u001b[39m     \u001b[38;5;28mself\u001b[39m._version = version\n",
      "\u001b[36mFile \u001b[39m\u001b[32m~/Desktop/SDSBootcamp/Set-UP/sds/.venv/lib/python3.12/site-packages/docker/api/client.py:230\u001b[39m, in \u001b[36mAPIClient._retrieve_server_version\u001b[39m\u001b[34m(self)\u001b[39m\n\u001b[32m    225\u001b[39m     \u001b[38;5;28;01mraise\u001b[39;00m DockerException(\n\u001b[32m    226\u001b[39m         \u001b[33m'\u001b[39m\u001b[33mInvalid response from docker daemon: key \u001b[39m\u001b[33m\"\u001b[39m\u001b[33mApiVersion\u001b[39m\u001b[33m\"\u001b[39m\u001b[33m'\u001b[39m\n\u001b[32m    227\u001b[39m         \u001b[33m'\u001b[39m\u001b[33m is missing.\u001b[39m\u001b[33m'\u001b[39m\n\u001b[32m    228\u001b[39m     ) \u001b[38;5;28;01mfrom\u001b[39;00m\u001b[38;5;250m \u001b[39m\u001b[34;01mke\u001b[39;00m\n\u001b[32m    229\u001b[39m \u001b[38;5;28;01mexcept\u001b[39;00m \u001b[38;5;167;01mException\u001b[39;00m \u001b[38;5;28;01mas\u001b[39;00m e:\n\u001b[32m--> \u001b[39m\u001b[32m230\u001b[39m     \u001b[38;5;28;01mraise\u001b[39;00m DockerException(\n\u001b[32m    231\u001b[39m         \u001b[33mf\u001b[39m\u001b[33m'\u001b[39m\u001b[33mError while fetching server API version: \u001b[39m\u001b[38;5;132;01m{\u001b[39;00me\u001b[38;5;132;01m}\u001b[39;00m\u001b[33m'\u001b[39m\n\u001b[32m    232\u001b[39m     ) \u001b[38;5;28;01mfrom\u001b[39;00m\u001b[38;5;250m \u001b[39m\u001b[34;01me\u001b[39;00m\n",
      "\u001b[31mDockerException\u001b[39m: Error while fetching server API version: ('Connection aborted.', FileNotFoundError(2, 'No such file or directory'))"
     ]
    }
   ],
   "source": [
    "client = docker.from_env()\n",
    "image = \"python:3.12-slim\""
   ]
  },
  {
   "cell_type": "code",
   "execution_count": null,
   "id": "1b709eed",
   "metadata": {},
   "outputs": [],
   "source": [
    "@function_tool\n",
    "def execute_python(code: str) -> str:\n",
    "    \"\"\"\n",
    "    Execute the given Python code inside a Docker container with python:3.12-slim,\n",
    "    and return whatever is printed to stdout.\n",
    "    You must print the result of the code to stdout in order to retrieve it.\n",
    "    This uses the python:3.12-slim image and so it does not have scientific libraries installed;\n",
    "    write simple python 3.12 code using the standard library only. Do not use numpy or scipy.\n",
    "    IMPORTANT: You must print the result of the code in order to retrieve it.\n",
    "\n",
    "    Args:\n",
    "        code: The Python code to run. Remember to print the result.\n",
    "\n",
    "    \"\"\"\n",
    "    print(f\"Executing code: {code}\")\n",
    "    with tempfile.TemporaryDirectory() as tmpdir:\n",
    "        script_path = os.path.join(tmpdir, \"script.py\")\n",
    "        volumes = {tmpdir: {\"bind\": \"/tmp\", \"mode\": \"ro\"}}\n",
    "        command = [\"python\", \"/tmp/script.py\"]\n",
    "        with open(script_path, \"w\") as f:\n",
    "            f.write(code)\n",
    "        logs = client.containers.run(image=image, command=command, volumes=volumes, remove=True)\n",
    "    result = logs.decode(\"utf-8\")\n",
    "    print(f\"Result: {result}\")\n",
    "    return result"
   ]
  },
  {
   "cell_type": "code",
   "execution_count": null,
   "id": "8dfba04c",
   "metadata": {},
   "outputs": [],
   "source": [
    "pushover_user = os.getenv(\"PUSHOVER_USER\")\n",
    "pushover_token = os.getenv(\"PUSHOVER_TOKEN\")\n",
    "pushover_url = \"https://api.pushover.net/1/messages.json\"\n",
    "\n",
    "def send_push_notification(message: str):\n",
    "    payload = {\"user\": pushover_user, \"token\": pushover_token, \"message\": message}\n",
    "    requests.post(pushover_url, data=payload)\n",
    "\n",
    "@function_tool\n",
    "def push(message: str) -> str:\n",
    "    \"\"\"Send a text message as a push notification with this brief message\n",
    "\n",
    "    Args:\n",
    "        message: The short text message to push\n",
    "    \"\"\"\n",
    "\n",
    "    send_push_notification(message)\n",
    "    return \"Push notification sent\""
   ]
  },
  {
   "cell_type": "code",
   "execution_count": null,
   "id": "86350631",
   "metadata": {},
   "outputs": [],
   "source": [
    "instructions = \"\"\"\n",
    "You are given a problem to solve, by using your todo tools to plan a list of steps, then carrying out each step in turn.\n",
    "You also have access to an execute_python tool to run Python.\n",
    "To use the execute_python tool, you must have a task on your todo list prefixed with \"Write Python code to...\".\n",
    "Write Python code to solve the problem, and then write python to validate your solution to check your work, then use your push tool to send a message with the solution.\n",
    "Now use the todo list tools, create a plan, carry out the steps, and reply with the solution in Rich console markup (e.g. [bold red]Error[/bold red]).\n",
    "\"\"\"\n",
    "tools = [create_todos, mark_complete, list_todos, execute_python, push]\n",
    "agent = Agent(\"Puzzle Agent\", model=\"gpt-4.1-mini\", instructions=instructions, tools=tools)"
   ]
  },
  {
   "cell_type": "code",
   "execution_count": null,
   "id": "df72308b",
   "metadata": {},
   "outputs": [],
   "source": [
    "number = 5 * 11 * 47 * 307\n",
    "task = f\"What are the prime factors of {number}? Reply only with the answer.\"\n",
    "todos = []\n",
    "response = await Runner.run(agent, task)\n",
    "Console().print(\"\\n\\n\" + response.final_output)"
   ]
  },
  {
   "cell_type": "code",
   "execution_count": null,
   "id": "d56c8c81",
   "metadata": {},
   "outputs": [],
   "source": []
  }
 ],
 "metadata": {
  "kernelspec": {
   "display_name": ".venv",
   "language": "python",
   "name": "python3"
  },
  "language_info": {
   "codemirror_mode": {
    "name": "ipython",
    "version": 3
   },
   "file_extension": ".py",
   "mimetype": "text/x-python",
   "name": "python",
   "nbconvert_exporter": "python",
   "pygments_lexer": "ipython3",
   "version": "3.12.11"
  }
 },
 "nbformat": 4,
 "nbformat_minor": 5
}
