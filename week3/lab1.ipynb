{
 "cells": [
  {
   "cell_type": "markdown",
   "id": "3e9a75ce",
   "metadata": {},
   "source": [
    "# Welcome to Week 3!\n",
    "\n",
    "## Agenda\n",
    "\n",
    "### Part 1: Intro\n",
    "\n",
    "1. A review of your own [Evals](https://docs.google.com/presentation/d/1OI-9yqJWK5hHNO06JDz44UduN4YmTf1HP-IRTtuAnig/edit?slide=id.p10#slide=id.p10)\n",
    "2. What is an Agent?\n",
    "3. Digital Twin Teams\n",
    "4. First Agent labs - structured outputs (lab 2)\n",
    "\n",
    "### Part 2: Agents\n",
    "\n",
    "- Streaming (lab 3)\n",
    "- Tools (lab 4)\n",
    "- Interactions (lab 5)\n",
    "- Coding (lab 6)\n",
    "- Agent Loop (lab 7)\n",
    "\n",
    "### Part 3: Team planning\n",
    "\n",
    "1. Group and plan\n",
    "2. Experiment!\n",
    "3. Determine approach\n",
    "4. Regroup\n"
   ]
  },
  {
   "cell_type": "markdown",
   "id": "cc1b2670",
   "metadata": {},
   "source": [
    "## New Teams for Digital Twin\n",
    "\n",
    "The idea is that each of you builds the Digital Twin individually, but you collaborate to share your approach and leanings together, and to share tools.\n",
    "\n",
    "**Team 1:**\n",
    "\n",
    "Seb, Kinjal, Marylou, Dave\n",
    "\n",
    "**Team 2:**\n",
    "\n",
    "Jeff, Rohit, Salma\n",
    "\n",
    "**Team 3:**\n",
    "\n",
    "Sathiya, Ilya, Oscar, Josh\n"
   ]
  },
  {
   "cell_type": "code",
   "execution_count": null,
   "id": "9921dedb",
   "metadata": {},
   "outputs": [],
   "source": [
    "from agents import Agent, Runner\n",
    "from dotenv import load_dotenv\n",
    "load_dotenv(override=True)"
   ]
  },
  {
   "cell_type": "code",
   "execution_count": null,
   "id": "20736ebf",
   "metadata": {},
   "outputs": [],
   "source": [
    "agent = Agent(name=\"Jokester\", model=\"gpt-5-nano\")\n",
    "response = await Runner.run(agent, \"Tell me a joke about Agentic AI\")\n",
    "print(response.final_output)"
   ]
  },
  {
   "cell_type": "markdown",
   "id": "02a0c799",
   "metadata": {},
   "source": []
  }
 ],
 "metadata": {
  "kernelspec": {
   "display_name": ".venv",
   "language": "python",
   "name": "python3"
  },
  "language_info": {
   "codemirror_mode": {
    "name": "ipython",
    "version": 3
   },
   "file_extension": ".py",
   "mimetype": "text/x-python",
   "name": "python",
   "nbconvert_exporter": "python",
   "pygments_lexer": "ipython3",
   "version": "3.12.9"
  }
 },
 "nbformat": 4,
 "nbformat_minor": 5
}
