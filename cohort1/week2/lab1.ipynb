{
 "cells": [
  {
   "cell_type": "markdown",
   "metadata": {},
   "source": [
    "# Welcome to Core Session 2!\n",
    "\n",
    "## AGENDA\n",
    "\n",
    "1. LLMs and APIs - conclusion  \n",
    "  - Review of Week 1 via LiteLLM  \n",
    "  - Leaderboards: costs, context windows and capabilities  \n",
    "  - APIs at scale: Prompt caching & Batch APIs  \n",
    "2. Tools\n",
    "  - Exploring Tools Use aka Function Calling\n",
    "  - The FlightAI Airline Chatbot equipped with Tools\n",
    "  - Tools + SQL\n",
    "3. Introducing the Digital Twin\n",
    "  - Context\n",
    "  - Tools\n",
    "  - Assignments: security / prompt hardening; rate-limiting; adding RAG\n",
    "\n",
    "## New Approach\n",
    "\n",
    "- Interactive\n",
    "- More coding\n",
    "- Fewer slides..."
   ]
  },
  {
   "cell_type": "code",
   "execution_count": 1,
   "metadata": {},
   "outputs": [],
   "source": [
    "# What is the meaning of life?\n",
    "\n",
    "from dotenv import load_dotenv\n",
    "from openai import OpenAI\n",
    "load_dotenv(override=True)\n",
    "openai = OpenAI()\n",
    "\n",
    "\n",
    "\n",
    "\n",
    "\n",
    "\n",
    "\n"
   ]
  },
  {
   "cell_type": "code",
   "execution_count": null,
   "metadata": {},
   "outputs": [],
   "source": [
    "system_prompt = \"You are a helpful assistant\"\n",
    "user_prompt = \"You flip 2 coins. One of them is heads. What is the probability that the other one is tails?\"\n",
    "\n",
    "messages = [\n",
    "    {\"role\": \"system\", \"content\": system_prompt},\n",
    "    {\"role\": \"user\", \"content\": user_prompt}\n",
    "]\n",
    "\n",
    "messages\n"
   ]
  },
  {
   "cell_type": "code",
   "execution_count": null,
   "metadata": {},
   "outputs": [],
   "source": [
    "response = openai.chat.completions.create(model=\"gpt-4.1-nano\", messages=messages)\n",
    "print(response.choices[0].message.content)"
   ]
  },
  {
   "cell_type": "code",
   "execution_count": null,
   "metadata": {},
   "outputs": [],
   "source": [
    "# And now try Command+K\n",
    "\n"
   ]
  },
  {
   "cell_type": "code",
   "execution_count": null,
   "metadata": {},
   "outputs": [],
   "source": []
  }
 ],
 "metadata": {
  "kernelspec": {
   "display_name": ".venv",
   "language": "python",
   "name": "python3"
  },
  "language_info": {
   "codemirror_mode": {
    "name": "ipython",
    "version": 3
   },
   "file_extension": ".py",
   "mimetype": "text/x-python",
   "name": "python",
   "nbconvert_exporter": "python",
   "pygments_lexer": "ipython3",
   "version": "3.12.9"
  }
 },
 "nbformat": 4,
 "nbformat_minor": 2
}
