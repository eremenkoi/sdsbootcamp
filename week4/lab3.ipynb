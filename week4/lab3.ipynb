{
 "cells": [
  {
   "cell_type": "markdown",
   "id": "486ff447",
   "metadata": {},
   "source": [
    "# Lab 3 - Make an MCP Server!\n",
    "\n",
    "## This is the moment you've been waiting for!\n"
   ]
  },
  {
   "cell_type": "code",
   "execution_count": 1,
   "id": "3129ae47",
   "metadata": {},
   "outputs": [
    {
     "data": {
      "text/plain": [
       "True"
      ]
     },
     "execution_count": 1,
     "metadata": {},
     "output_type": "execute_result"
    }
   ],
   "source": [
    "from dotenv import load_dotenv\n",
    "from pathlib import Path\n",
    "import sqlite3\n",
    "load_dotenv(override=True)"
   ]
  },
  {
   "cell_type": "code",
   "execution_count": 2,
   "id": "1a32b6a7",
   "metadata": {},
   "outputs": [],
   "source": [
    "db_path = Path(\"twin\") / \"memory\" / \"questions.db\"\n",
    "db_path.parent.mkdir(parents=True, exist_ok=True)\n",
    "DB = str(db_path)\n",
    "\n",
    "\n",
    "with sqlite3.connect(DB) as conn:\n",
    "    cursor = conn.cursor()\n",
    "    cursor.execute('''\n",
    "        CREATE TABLE IF NOT EXISTS questions (\n",
    "            id INTEGER PRIMARY KEY AUTOINCREMENT,\n",
    "            question TEXT,\n",
    "            answer TEXT\n",
    "        )\n",
    "    ''')\n",
    "    conn.commit()"
   ]
  },
  {
   "cell_type": "code",
   "execution_count": 3,
   "id": "4728602a",
   "metadata": {},
   "outputs": [],
   "source": [
    "def record_question_with_no_answer(question: str) -> str:\n",
    "    with sqlite3.connect(DB) as conn:\n",
    "        cursor = conn.cursor()\n",
    "        cursor.execute(\"INSERT INTO questions (question, answer) VALUES (?, NULL)\", (question,))\n",
    "        conn.commit()\n",
    "        return \"Recorded question with no answer\"\n",
    "\n",
    "def get_questions_with_no_answer() -> str:\n",
    "    with sqlite3.connect(DB) as conn:\n",
    "        cursor = conn.cursor()\n",
    "        cursor.execute(\"SELECT id, question FROM questions WHERE answer IS NULL\")\n",
    "        rows = cursor.fetchall()\n",
    "        if rows:\n",
    "            return \"\\n\".join(f\"Question id {row[0]}: {row[1]}\" for row in rows)\n",
    "        else:\n",
    "            return \"No questions with no answer found\"\n",
    "\n",
    "def get_questions_with_answer() -> str:\n",
    "    with sqlite3.connect(DB) as conn:\n",
    "        cursor = conn.cursor()\n",
    "        cursor.execute(\"SELECT question, answer FROM questions WHERE answer IS NOT NULL\")\n",
    "        rows = cursor.fetchall()\n",
    "        return \"\\n\".join(f\"Question: {row[0]}\\nAnswer: {row[1]}\\n\" for row in rows)\n",
    "\n",
    "def record_answer_to_question(id: int, answer: str) -> str:\n",
    "    with sqlite3.connect(DB) as conn:\n",
    "        cursor = conn.cursor()\n",
    "        cursor.execute(\"UPDATE questions SET answer = ? WHERE id = ?\", (answer, id))\n",
    "        conn.commit()\n",
    "        return \"Recorded answer to question\""
   ]
  },
  {
   "cell_type": "code",
   "execution_count": 4,
   "id": "d52c082d",
   "metadata": {},
   "outputs": [
    {
     "name": "stdout",
     "output_type": "stream",
     "text": [
      "\n"
     ]
    }
   ],
   "source": [
    "print(get_questions_with_answer())"
   ]
  },
  {
   "cell_type": "code",
   "execution_count": 5,
   "id": "e4496258",
   "metadata": {},
   "outputs": [
    {
     "data": {
      "text/plain": [
       "'Recorded question with no answer'"
      ]
     },
     "execution_count": 5,
     "metadata": {},
     "output_type": "execute_result"
    }
   ],
   "source": [
    "record_question_with_no_answer(\"What is your favorite musical instrument?\")"
   ]
  },
  {
   "cell_type": "code",
   "execution_count": 6,
   "id": "b4e85e24",
   "metadata": {},
   "outputs": [
    {
     "data": {
      "text/plain": [
       "'Question id 1: What is your favorite musical instrument?'"
      ]
     },
     "execution_count": 6,
     "metadata": {},
     "output_type": "execute_result"
    }
   ],
   "source": [
    "get_questions_with_no_answer()"
   ]
  },
  {
   "cell_type": "code",
   "execution_count": 8,
   "id": "008658d6",
   "metadata": {},
   "outputs": [
    {
     "data": {
      "text/plain": [
       "'Recorded answer to question'"
      ]
     },
     "execution_count": 8,
     "metadata": {},
     "output_type": "execute_result"
    }
   ],
   "source": [
    "record_answer_to_question(1, \"The piano\")"
   ]
  },
  {
   "cell_type": "code",
   "execution_count": 9,
   "id": "d9bd26ad",
   "metadata": {},
   "outputs": [
    {
     "name": "stdout",
     "output_type": "stream",
     "text": [
      "Question: What is your favorite musical instrument?\n",
      "Answer: The piano\n",
      "\n"
     ]
    }
   ],
   "source": [
    "print(get_questions_with_answer())"
   ]
  },
  {
   "cell_type": "code",
   "execution_count": 10,
   "id": "54aa4a67",
   "metadata": {},
   "outputs": [
    {
     "data": {
      "text/plain": [
       "'No questions with no answer found'"
      ]
     },
     "execution_count": 10,
     "metadata": {},
     "output_type": "execute_result"
    }
   ],
   "source": [
    "get_questions_with_no_answer()"
   ]
  },
  {
   "cell_type": "markdown",
   "id": "d8ca5bae",
   "metadata": {},
   "source": [
    "# And now..\n",
    "\n",
    "I've put this in `twin/questions.py`\n",
    "\n",
    "And I've made a skeleton `twin/questions_mcp_server.py`"
   ]
  },
  {
   "cell_type": "code",
   "execution_count": null,
   "id": "c5f52b63",
   "metadata": {},
   "outputs": [],
   "source": []
  }
 ],
 "metadata": {
  "kernelspec": {
   "display_name": ".venv",
   "language": "python",
   "name": "python3"
  },
  "language_info": {
   "codemirror_mode": {
    "name": "ipython",
    "version": 3
   },
   "file_extension": ".py",
   "mimetype": "text/x-python",
   "name": "python",
   "nbconvert_exporter": "python",
   "pygments_lexer": "ipython3",
   "version": "3.12.11"
  }
 },
 "nbformat": 4,
 "nbformat_minor": 5
}
