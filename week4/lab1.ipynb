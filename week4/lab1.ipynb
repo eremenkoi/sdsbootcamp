{
 "cells": [
  {
   "cell_type": "markdown",
   "metadata": {},
   "source": [
    "# Welcome to Core Session 4\n",
    "\n",
    "## The 3 themes for today:\n",
    "\n",
    "1. Using MCP servers\n",
    "2. Writing MCP servers\n",
    "3. Context Engineering\n",
    "\n",
    "# Agenda\n",
    "\n",
    "1. Intro to MCP\n",
    " -  Recap & Cookbook\n",
    " -  MCP introduction\n",
    " -  Hands on - use an MCP server\n",
    "\n",
    "2. Make your own MCP server\n",
    " - The database code\n",
    " - The skeleton\n",
    " - The exercise\n",
    "\n",
    "3. Digital Twin reprise\n",
    " - Context engineering with MCP\n",
    " - Back to your teams!\n",
    "\n",
    "### But first..\n",
    "\n",
    "\n",
    "# Lab 1 - The Cookbook"
   ]
  },
  {
   "cell_type": "code",
   "execution_count": null,
   "metadata": {},
   "outputs": [],
   "source": [
    "from agents import Agent, Runner, function_tool\n",
    "from openai.types.responses import ResponseTextDeltaEvent\n",
    "from IPython.display import Markdown, display, update_display\n",
    "from pydantic import BaseModel, Field\n",
    "from dotenv import load_dotenv\n",
    "load_dotenv(override=True)"
   ]
  },
  {
   "cell_type": "markdown",
   "metadata": {},
   "source": [
    "## Recipe for a simple request to gpt-5-nano"
   ]
  },
  {
   "cell_type": "code",
   "execution_count": null,
   "metadata": {},
   "outputs": [],
   "source": [
    "agent = Agent(\"Joker\", model=\"gpt-5-nano\")\n",
    "result = await Runner.run(agent, \"Please tell a joke about AI Agents\")\n",
    "result.final_output"
   ]
  },
  {
   "cell_type": "code",
   "execution_count": null,
   "metadata": {},
   "outputs": [],
   "source": [
    "# Please tell me how to find the integral of 2x dx\n"
   ]
  },
  {
   "cell_type": "markdown",
   "metadata": {},
   "source": [
    "## Recipe for system prompt + user prompt, displaying the result in Markdown"
   ]
  },
  {
   "cell_type": "code",
   "execution_count": null,
   "metadata": {},
   "outputs": [],
   "source": [
    "instructions = \"You tell jokes by giving a standup routine, like a comedian putting on a show.\"\n",
    "agent = Agent(name=\"Joker\", instructions=instructions, model=\"gpt-4.1-mini\")\n",
    "result = await Runner.run(agent, \"Tell a joke about AI Agents\")\n",
    "display(Markdown(result.final_output))"
   ]
  },
  {
   "cell_type": "markdown",
   "metadata": {},
   "source": [
    "## And streaming back results"
   ]
  },
  {
   "cell_type": "code",
   "execution_count": null,
   "metadata": {},
   "outputs": [],
   "source": [
    "result = Runner.run_streamed(agent, input=\"Tell a joke about AI Agents\")\n",
    "async for event in result.stream_events():\n",
    "    if event.type == \"raw_response_event\" and isinstance(event.data, ResponseTextDeltaEvent):\n",
    "        print(event.data.delta, end=\"\", flush=True)"
   ]
  },
  {
   "cell_type": "markdown",
   "metadata": {},
   "source": [
    "## Recipe for streaming back the results in Markdown"
   ]
  },
  {
   "cell_type": "code",
   "execution_count": null,
   "metadata": {},
   "outputs": [],
   "source": [
    "reply = \"## Jokester\\n\"\n",
    "display_id = display(Markdown(reply), display_id=True).display_id\n",
    "result = Runner.run_streamed(agent, input=\"Please tell a joke about AI Agents\")\n",
    "async for event in result.stream_events():\n",
    "    if event.type == \"raw_response_event\" and isinstance(event.data, ResponseTextDeltaEvent):\n",
    "        reply += event.data.delta\n",
    "        update_display(Markdown(reply), display_id=display_id)\n"
   ]
  },
  {
   "cell_type": "markdown",
   "metadata": {},
   "source": [
    "## Recipe for a Simple Tool"
   ]
  },
  {
   "cell_type": "code",
   "execution_count": null,
   "metadata": {},
   "outputs": [],
   "source": [
    "@function_tool\n",
    "def write_to_file(contents: str) -> str:\n",
    "    \"\"\" Write the given contents to a local file called output.md \n",
    "\n",
    "    Args:\n",
    "        contents: The contents in Markdown format to write to the file\n",
    "    \"\"\"\n",
    "    with open(\"sandbox/output.md\", \"w\") as f:\n",
    "        f.write(contents)\n",
    "    return \"File written successfully\""
   ]
  },
  {
   "cell_type": "code",
   "execution_count": null,
   "metadata": {},
   "outputs": [],
   "source": [
    "agent = Agent(\"Joker\", instructions=instructions, tools=[write_to_file])\n",
    "result = await Runner.run(agent, \"Tell a joke about AI Agents and write it to a file\")\n",
    "result.final_output"
   ]
  },
  {
   "cell_type": "markdown",
   "metadata": {},
   "source": [
    "## Recipe for Structured Outputs"
   ]
  },
  {
   "cell_type": "code",
   "execution_count": null,
   "metadata": {},
   "outputs": [],
   "source": [
    "class Joke(BaseModel):\n",
    "    opening_patter: str = Field(\"Some preamble to get the crowd in the mood for the joke\")\n",
    "    setup: str = Field(\"The setup of the joke\")\n",
    "    punchline: str = Field(\"The punchline of the joke\")"
   ]
  },
  {
   "cell_type": "code",
   "execution_count": null,
   "metadata": {},
   "outputs": [],
   "source": [
    "agent = Agent(\"Joker\", tools=[write_to_file], output_type=Joke)\n",
    "result = await Runner.run(agent, \"Tell a joke about AI Agents and write it to a file\")\n",
    "result.final_output_as(Joke)"
   ]
  },
  {
   "cell_type": "code",
   "execution_count": null,
   "metadata": {},
   "outputs": [],
   "source": []
  }
 ],
 "metadata": {
  "kernelspec": {
   "display_name": ".venv",
   "language": "python",
   "name": "python3"
  },
  "language_info": {
   "codemirror_mode": {
    "name": "ipython",
    "version": 3
   },
   "file_extension": ".py",
   "mimetype": "text/x-python",
   "name": "python",
   "nbconvert_exporter": "python",
   "pygments_lexer": "ipython3",
   "version": "3.12.9"
  }
 },
 "nbformat": 4,
 "nbformat_minor": 2
}
