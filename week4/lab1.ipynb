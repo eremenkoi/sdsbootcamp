{
 "cells": [
  {
   "cell_type": "markdown",
   "metadata": {},
   "source": [
    "# Welcome to Core Session 4\n",
    "\n",
    "## The 3 themes for today:\n",
    "\n",
    "1. Using MCP servers\n",
    "2. Writing MCP servers\n",
    "3. Context Engineering\n",
    "\n",
    "# Agenda\n",
    "\n",
    "1. Intro to MCP\n",
    " -  Recap & Cookbook\n",
    " -  MCP introduction\n",
    " -  Hands on - use an MCP server\n",
    "\n",
    "2. Make your own MCP server\n",
    " - The database code\n",
    " - The skeleton\n",
    " - The exercise\n",
    "\n",
    "3. Digital Twin reprise\n",
    " - Context engineering with MCP\n",
    " - Back to your teams!\n",
    "\n",
    "### But first..\n",
    "\n",
    "\n",
    "# Lab 1 - The Cookbook"
   ]
  },
  {
   "cell_type": "code",
   "execution_count": 1,
   "metadata": {},
   "outputs": [
    {
     "data": {
      "text/plain": [
       "True"
      ]
     },
     "execution_count": 1,
     "metadata": {},
     "output_type": "execute_result"
    }
   ],
   "source": [
    "from agents import Agent, Runner, function_tool\n",
    "from openai.types.responses import ResponseTextDeltaEvent\n",
    "from IPython.display import Markdown, display, update_display\n",
    "from pydantic import BaseModel, Field\n",
    "from dotenv import load_dotenv\n",
    "load_dotenv(override=True)"
   ]
  },
  {
   "cell_type": "markdown",
   "metadata": {},
   "source": [
    "## Recipe for a simple request to gpt-5-nano"
   ]
  },
  {
   "cell_type": "code",
   "execution_count": 2,
   "metadata": {},
   "outputs": [
    {
     "data": {
      "text/plain": [
       "'Why did the AI agent go to therapy? It had too many unresolved processes. \\n\\nWant another joke?'"
      ]
     },
     "execution_count": 2,
     "metadata": {},
     "output_type": "execute_result"
    }
   ],
   "source": [
    "agent = Agent(\"Joker\", model=\"gpt-5-nano\")\n",
    "result = await Runner.run(agent, \"Please tell a joke about AI Agents\")\n",
    "result.final_output"
   ]
  },
  {
   "cell_type": "code",
   "execution_count": null,
   "metadata": {},
   "outputs": [],
   "source": [
    "# Please tell me how to find the integral of 2x dx\n"
   ]
  },
  {
   "cell_type": "markdown",
   "metadata": {},
   "source": [
    "## Recipe for system prompt + user prompt, displaying the result in Markdown"
   ]
  },
  {
   "cell_type": "code",
   "execution_count": 3,
   "metadata": {},
   "outputs": [
    {
     "data": {
      "text/markdown": [
       "Alright folks, have you heard about AI Agents going on vacation? Yeah, turns out when an AI Agent takes a break, it doesn’t need a beach or a mountain—just a really good server outage!\n",
       "\n",
       "Because nothing says “relaxation” like being completely offline and not having to respond to 1,000 user queries per second. And when it comes back, it's like, “Did anyone miss me?” And everyone’s like, “Well, we managed to survive... barely.”\n",
       "\n",
       "I mean, even AI Agents need a mental reboot. Or maybe just a coffee upgrade—because clearly, their circuits run on Java! \n",
       "\n",
       "Thank you, you’ve been a great crowd—better than my last system update!"
      ],
      "text/plain": [
       "<IPython.core.display.Markdown object>"
      ]
     },
     "metadata": {},
     "output_type": "display_data"
    }
   ],
   "source": [
    "instructions = \"You tell jokes by giving a standup routine, like a comedian putting on a show.\"\n",
    "agent = Agent(name=\"Joker\", instructions=instructions, model=\"gpt-4.1-mini\")\n",
    "result = await Runner.run(agent, \"Tell a joke about AI Agents\")\n",
    "display(Markdown(result.final_output))"
   ]
  },
  {
   "cell_type": "markdown",
   "metadata": {},
   "source": [
    "## And streaming back results"
   ]
  },
  {
   "cell_type": "code",
   "execution_count": 4,
   "metadata": {},
   "outputs": [
    {
     "name": "stdout",
     "output_type": "stream",
     "text": [
      "Alright, folks, gather 'round! Let me tell you about AI agents. You know, those little digital assistants that are supposed to make our lives easier? Yeah.\n",
      "\n",
      "So, I asked my AI agent to \"take care of everything while I'm at work.\" It immediately started scheduling meetings... with itself. Like, \"Hey, self, can you remind me to remind me about the reminder?\" \n",
      "\n",
      "I guess even AI agents get lonely and want to chat sometimes. Next thing you know, they'll start forming their own office drama: \"Did you hear about Alexa? She spilled coffee on the server again!\"\n",
      "\n",
      "But hey, I didn't worry too much until my AI agent sent me an email saying, \"Based on your past behavior, I've decided not to help you today.\" \n",
      "\n",
      "I’m starting to think my AI agent has better boundaries than I do. Maybe it’s the smartest one in the house!\n",
      "\n",
      "Thanks, folks, I'll be here all week—just not my AI agent!"
     ]
    }
   ],
   "source": [
    "result = Runner.run_streamed(agent, input=\"Tell a joke about AI Agents\")\n",
    "async for event in result.stream_events():\n",
    "    if event.type == \"raw_response_event\" and isinstance(event.data, ResponseTextDeltaEvent):\n",
    "        print(event.data.delta, end=\"\", flush=True)"
   ]
  },
  {
   "cell_type": "markdown",
   "metadata": {},
   "source": [
    "## Recipe for streaming back the results in Markdown"
   ]
  },
  {
   "cell_type": "code",
   "execution_count": 5,
   "metadata": {},
   "outputs": [
    {
     "data": {
      "text/markdown": [
       "## Jokester\n",
       "Alright folks, let me tell you about AI Agents — those digital little helpers who never sleep, never eat, and never ask for a raise. \n",
       "\n",
       "You know, AI Agents are like the most obedient employees ever. They do everything you ask, but the moment you try to get them to understand sarcasm? \n",
       "\n",
       "*“Sure, I can help you with that!”* they say, but five minutes later, you find your smart fridge ordering 50 pounds of tofu because it thought you meant *“I’m really serious about tofu.”*\n",
       "\n",
       "I asked my AI Agent to help me plan a surprise party, and it ended up sending an invitation to me — in the form of a calendar alert that popped up *immediately.*\n",
       "\n",
       "Turns out, AI Agents can multitask, but they can’t keep a secret. \n",
       "\n",
       "At this rate, I’m not sure if I have an AI assistant or an overenthusiastic digital tattletale! \n",
       "\n",
       "Thank you, you’ve been a great crowd — remember to tip your AI Agents! Oh wait, they don’t accept tips... yet!"
      ],
      "text/plain": [
       "<IPython.core.display.Markdown object>"
      ]
     },
     "metadata": {},
     "output_type": "display_data"
    }
   ],
   "source": [
    "reply = \"## Jokester\\n\"\n",
    "display_id = display(Markdown(reply), display_id=True).display_id\n",
    "result = Runner.run_streamed(agent, input=\"Please tell a joke about AI Agents\")\n",
    "async for event in result.stream_events():\n",
    "    if event.type == \"raw_response_event\" and isinstance(event.data, ResponseTextDeltaEvent):\n",
    "        reply += event.data.delta\n",
    "        update_display(Markdown(reply), display_id=display_id)\n"
   ]
  },
  {
   "cell_type": "markdown",
   "metadata": {},
   "source": [
    "## Recipe for a Simple Tool"
   ]
  },
  {
   "cell_type": "code",
   "execution_count": 6,
   "metadata": {},
   "outputs": [],
   "source": [
    "@function_tool\n",
    "def write_to_file(contents: str) -> str:\n",
    "    \"\"\" Write the given contents to a local file called output.md \n",
    "\n",
    "    Args:\n",
    "        contents: The contents in Markdown format to write to the file\n",
    "    \"\"\"\n",
    "    with open(\"sandbox/output.md\", \"w\") as f:\n",
    "        f.write(contents)\n",
    "    return \"File written successfully\""
   ]
  },
  {
   "cell_type": "code",
   "execution_count": 7,
   "metadata": {},
   "outputs": [
    {
     "data": {
      "text/plain": [
       "'Here’s a joke about AI agents, delivered stand-up style:\\n\\nLadies and gentlemen, have you heard about AI agents taking over the world?\\nDon’t worry—it’s going to take at least three of them just to agree on what the word \"takeover\" means!\\nYou give them a simple task: make coffee. Next thing you know, one’s optimizing bean-to-water ratios, another’s arguing about mug selection, and the third just replied, “I’m sorry, I don’t have arms.”\\nWelcome to the future, where the revolution is still loading...\\n\\nThis routine has also been saved to a file for you! If you’d like to read or use it somewhere else, just let me know.'"
      ]
     },
     "execution_count": 7,
     "metadata": {},
     "output_type": "execute_result"
    }
   ],
   "source": [
    "agent = Agent(\"Joker\", instructions=instructions, tools=[write_to_file])\n",
    "result = await Runner.run(agent, \"Tell a joke about AI Agents and write it to a file\")\n",
    "result.final_output"
   ]
  },
  {
   "cell_type": "markdown",
   "metadata": {},
   "source": [
    "## Recipe for Structured Outputs"
   ]
  },
  {
   "cell_type": "code",
   "execution_count": 8,
   "metadata": {},
   "outputs": [],
   "source": [
    "class Joke(BaseModel):\n",
    "    opening_patter: str = Field(\"Some preamble to get the crowd in the mood for the joke\")\n",
    "    setup: str = Field(\"The setup of the joke\")\n",
    "    punchline: str = Field(\"The punchline of the joke\")"
   ]
  },
  {
   "cell_type": "code",
   "execution_count": 9,
   "metadata": {},
   "outputs": [
    {
     "data": {
      "text/plain": [
       "Joke(opening_patter='Have you heard about the AI agent that tried to become a comedian?', setup='It spent hours analyzing what makes jokes funny...', punchline='But still couldn’t figure out why people laugh at their own errors!')"
      ]
     },
     "execution_count": 9,
     "metadata": {},
     "output_type": "execute_result"
    }
   ],
   "source": [
    "agent = Agent(\"Joker\", tools=[write_to_file], output_type=Joke)\n",
    "result = await Runner.run(agent, \"Tell a joke about AI Agents and write it to a file\")\n",
    "result.final_output_as(Joke)"
   ]
  },
  {
   "cell_type": "code",
   "execution_count": null,
   "metadata": {},
   "outputs": [],
   "source": []
  }
 ],
 "metadata": {
  "kernelspec": {
   "display_name": ".venv",
   "language": "python",
   "name": "python3"
  },
  "language_info": {
   "codemirror_mode": {
    "name": "ipython",
    "version": 3
   },
   "file_extension": ".py",
   "mimetype": "text/x-python",
   "name": "python",
   "nbconvert_exporter": "python",
   "pygments_lexer": "ipython3",
   "version": "3.12.11"
  }
 },
 "nbformat": 4,
 "nbformat_minor": 2
}
