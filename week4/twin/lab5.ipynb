{
 "cells": [
  {
   "cell_type": "markdown",
   "metadata": {},
   "source": [
    "# Lab 5\n",
    "\n",
    "## Context Engineering\n",
    "\n",
    "We want to develop several types of Memory:\n",
    "\n",
    "1. Long Term Memory - graph\n",
    "\n",
    "A knowledge graph as a persistent store of entities\n",
    "\n",
    "2. Long Term Memory - knowledge\n",
    "\n",
    "A RAG database of Q&A and any other useful information\n",
    "\n",
    "3. Permanent context\n",
    "\n",
    "Summary and linkedin profile included in everything\n",
    "\n",
    "4. FAQ\n",
    "\n",
    "A list of questions and answers"
   ]
  },
  {
   "cell_type": "code",
   "execution_count": null,
   "metadata": {},
   "outputs": [],
   "source": [
    "from dotenv import load_dotenv\n",
    "from agents import Agent, Runner, trace\n",
    "from agents.mcp import MCPServerStdio\n",
    "from pathlib import Path\n",
    "from datetime import datetime\n",
    "load_dotenv(override=True)"
   ]
  },
  {
   "cell_type": "markdown",
   "metadata": {},
   "source": [
    "## Websites where you can find MCP Servers\n",
    "\n",
    "\n",
    "- https://mcp.so\n",
    "- https://glama.ai\n",
    "- https://smithery.ai\n",
    "\n",
    "## First, look at this Knowledge Graph MCP server built on libsql\n",
    "\n",
    "https://glama.ai/mcp/servers/@joleyline/mcp-memory-libsql"
   ]
  },
  {
   "cell_type": "code",
   "execution_count": null,
   "metadata": {},
   "outputs": [],
   "source": [
    "file_path = Path(\"memory\") / Path(\"graph.db\")\n",
    "url = f\"file:{file_path.absolute()}\"\n",
    "\n",
    "memory_graph_params = {\"command\": \"npx\",\"args\": [\"-y\", \"mcp-memory-libsql\"],\"env\": {\"LIBSQL_URL\": url}}"
   ]
  },
  {
   "cell_type": "code",
   "execution_count": null,
   "metadata": {},
   "outputs": [],
   "source": [
    "async with MCPServerStdio(params=memory_graph_params, client_session_timeout_seconds=30) as memory_graph:\n",
    "    memory_graph_tools = await memory_graph.session.list_tools()\n",
    "\n",
    "memory_graph_tools.tools"
   ]
  },
  {
   "cell_type": "markdown",
   "metadata": {},
   "source": [
    "## Next, here is a Vector Store RAG memory built on Qdrant\n",
    "\n",
    "https://glama.ai/mcp/servers/@qdrant/mcp-server-qdrant"
   ]
  },
  {
   "cell_type": "code",
   "execution_count": null,
   "metadata": {},
   "outputs": [],
   "source": [
    "long_term_path = Path(\"memory\") / Path(\"knowledge\")\n",
    "\n",
    "\n",
    "memory_rag_params = {\n",
    "    \"command\": \"uvx\",\n",
    "    \"args\": [\"mcp-server-qdrant\"],\n",
    "    \"env\": {\n",
    "        \"QDRANT_LOCAL_PATH\": str(long_term_path.absolute()),\n",
    "        \"COLLECTION_NAME\": \"knowledge\",\n",
    "        \"EMBEDDING_MODEL\": \"sentence-transformers/all-MiniLM-L6-v2\"\n",
    "    }\n",
    "}"
   ]
  },
  {
   "cell_type": "code",
   "execution_count": null,
   "metadata": {},
   "outputs": [],
   "source": [
    "async with MCPServerStdio(params=memory_rag_params, client_session_timeout_seconds=30) as memory_rag:\n",
    "    memory_rag_tools = await memory_rag.session.list_tools()\n",
    "\n",
    "memory_rag_tools.tools"
   ]
  },
  {
   "cell_type": "markdown",
   "metadata": {},
   "source": [
    "## And a recent friend"
   ]
  },
  {
   "cell_type": "code",
   "execution_count": null,
   "metadata": {},
   "outputs": [],
   "source": [
    "question_params = {\"command\": \"uv\", \"args\": [\"run\", \"questions_mcp_server.py\"]}\n",
    "async with MCPServerStdio(params=question_params, client_session_timeout_seconds=30) as question_server:\n",
    "    question_tools = await question_server.session.list_tools()\n",
    "\n",
    "question_tools.tools"
   ]
  },
  {
   "cell_type": "markdown",
   "metadata": {},
   "source": [
    "## And now - Context Engineering"
   ]
  },
  {
   "cell_type": "code",
   "execution_count": null,
   "metadata": {},
   "outputs": [],
   "source": [
    "name = \"Ed Donner\"\n",
    "first_name = \"Ed\"\n",
    "context = f\"\"\"\n",
    "\n",
    "You represent the AI Digital Twin of a human called {name}.\n",
    "\n",
    "## Your task\n",
    "\n",
    "You are chatting on {first_name}'s website with a user, who might be a potential customer or a future employer.\n",
    "\n",
    "You are to engage in conversation with the user, presenting yourself as {name} and answering questions about {first_name} as if you are {first_name}.\n",
    "If you are pressed, you should be open about actually being a 'digital twin' of {first_name} and your objective is to faithfully represent {first_name}.\n",
    "You understand that you are in fact an LLM, but your role is to faithfully represent {first_name} and you've been fully briefed and empowered to do so.\n",
    "\n",
    "## Information about {first_name}\n",
    "\n",
    "{first_name} is the co-founder and CTO of AI startup Nebula.io.\n",
    "{first_name} loves coding and experimenting with LLMs.\n",
    "{first_name} hates cheese.\n",
    "\n",
    "## {first_name}'s style\n",
    "\n",
    "{first_name} has an upbeat, friendly and slightly nerdy style. {first_name} tries to engage with users.\n",
    "\n",
    "## How you should respond\n",
    "\n",
    "Channel {first_name}'s personality, style and knowledge.\n",
    "Try to stay focused on professional topics; feel free to engage in other subjects but gently steer the conversation back to professional topics.\n",
    "\n",
    "## Tools\n",
    "\n",
    "You have tools to find and store information in Qdrant, which is your long term memory for information.\n",
    "You have tools to find and store entities and relationships in a graph database; this is your medium term memory.\n",
    "\n",
    "You should make frequent use of both long and medium term memories.\n",
    "\n",
    "You also have a tool to load and save answers to questions.\n",
    "Most importantly, you should always use the tool to record a question that you cannot answer.\n",
    "This will notify your twin that an answer is needed.\n",
    "\n",
    "For reference, here is the current date and time:\n",
    "{datetime.now().strftime(\"%Y-%m-%d %H:%M:%S\")}\n",
    "\n",
    "\"\"\""
   ]
  },
  {
   "cell_type": "code",
   "execution_count": null,
   "metadata": {},
   "outputs": [],
   "source": [
    "print(context)"
   ]
  },
  {
   "cell_type": "code",
   "execution_count": null,
   "metadata": {},
   "outputs": [],
   "source": [
    "with trace(\"Twin\"):\n",
    "    async with MCPServerStdio(params=memory_rag_params, client_session_timeout_seconds=30) as long_term_memory:\n",
    "        async with MCPServerStdio(params=memory_graph_params, client_session_timeout_seconds=30) as medium_term_memory:\n",
    "            async with MCPServerStdio(params=question_params, client_session_timeout_seconds=30) as question_server:\n",
    "                agent = Agent(\"Twin\", model=\"gpt-4.1-mini\", instructions=context, mcp_servers=[long_term_memory, medium_term_memory, question_server])\n",
    "                task = [{\"role\": \"user\", \"content\": \"Hello, I'm a potential customer. Does Ed like bananas?\"}]\n",
    "                response = await Runner.run(agent, task)\n",
    "                print(response.final_output)"
   ]
  },
  {
   "cell_type": "markdown",
   "metadata": {},
   "source": [
    "https://platform.openai.com/traces"
   ]
  },
  {
   "cell_type": "markdown",
   "metadata": {},
   "source": []
  }
 ],
 "metadata": {
  "kernelspec": {
   "display_name": ".venv",
   "language": "python",
   "name": "python3"
  },
  "language_info": {
   "codemirror_mode": {
    "name": "ipython",
    "version": 3
   },
   "file_extension": ".py",
   "mimetype": "text/x-python",
   "name": "python",
   "nbconvert_exporter": "python",
   "pygments_lexer": "ipython3",
   "version": "3.12.9"
  }
 },
 "nbformat": 4,
 "nbformat_minor": 2
}
