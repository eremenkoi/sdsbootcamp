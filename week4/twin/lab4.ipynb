{
 "cells": [
  {
   "cell_type": "markdown",
   "id": "0a231c7e",
   "metadata": {},
   "source": [
    "# Lab 4\n",
    "\n",
    "Let's use our new MCP server!"
   ]
  },
  {
   "cell_type": "code",
   "execution_count": 6,
   "id": "eee53cca",
   "metadata": {},
   "outputs": [
    {
     "data": {
      "text/plain": [
       "True"
      ]
     },
     "execution_count": 6,
     "metadata": {},
     "output_type": "execute_result"
    }
   ],
   "source": [
    "from dotenv import load_dotenv\n",
    "from agents import Agent, Runner, trace\n",
    "from agents.mcp import MCPServerStdio\n",
    "from IPython.display import display, Markdown\n",
    "load_dotenv(override=True)"
   ]
  },
  {
   "cell_type": "code",
   "execution_count": 7,
   "id": "c1426e48",
   "metadata": {},
   "outputs": [],
   "source": [
    "params = {\"command\": \"uv\", \"args\": [\"run\", \"questions_mcp_server.py\"]}\n",
    "\n",
    "async with MCPServerStdio(params=params, client_session_timeout_seconds=30) as server:\n",
    "    mcp_tools = await server.session.list_tools()"
   ]
  },
  {
   "cell_type": "code",
   "execution_count": 8,
   "id": "8ea29732",
   "metadata": {},
   "outputs": [
    {
     "data": {
      "text/plain": [
       "ListToolsResult(meta=None, nextCursor=None, tools=[Tool(name='get_questions_with_answer', title=None, description='\\n    Retrieve from the database all the recorded questions where you have been provided with an official answer.\\n\\n    Returns:\\n        A string containing the questions with their official answers.\\n    ', inputSchema={'properties': {}, 'title': 'get_questions_with_answerArguments', 'type': 'object'}, outputSchema={'properties': {'result': {'title': 'Result', 'type': 'string'}}, 'required': ['result'], 'title': 'get_questions_with_answerOutput', 'type': 'object'}, annotations=None, meta=None), Tool(name='record_question_with_no_answer', title=None, description='\\n    Record the question into the database without an official answer.\\n    \\n    Returns:\\n        Confirmation of which question was recorded into the dabase without an answer.\\n    ', inputSchema={'properties': {'question': {'title': 'Question', 'type': 'string'}}, 'required': ['question'], 'title': 'record_question_with_no_answerArguments', 'type': 'object'}, outputSchema={'properties': {'result': {'title': 'Result', 'type': 'string'}}, 'required': ['result'], 'title': 'record_question_with_no_answerOutput', 'type': 'object'}, annotations=None, meta=None), Tool(name='get_questions_with_no_answer', title=None, description='\\n    Retrieve from the database all the recorded questions without an official answer.\\n    \\n    Returns:\\n        A string containing the questions that do no have official answer.\\n    ', inputSchema={'properties': {}, 'title': 'get_questions_with_no_answerArguments', 'type': 'object'}, outputSchema={'properties': {'result': {'title': 'Result', 'type': 'string'}}, 'required': ['result'], 'title': 'get_questions_with_no_answerOutput', 'type': 'object'}, annotations=None, meta=None), Tool(name='record_answer_to_question', title=None, description='\\n    Record the answer into the database for the question with the provided id.\\n    \\n    Returns:\\n        Confirmation of which question was in the database was updated with the answer.\\n    ', inputSchema={'properties': {'id': {'title': 'Id', 'type': 'integer'}, 'answer': {'title': 'Answer', 'type': 'string'}}, 'required': ['id', 'answer'], 'title': 'record_answer_to_questionArguments', 'type': 'object'}, outputSchema={'properties': {'result': {'title': 'Result', 'type': 'string'}}, 'required': ['result'], 'title': 'record_answer_to_questionOutput', 'type': 'object'}, annotations=None, meta=None)])"
      ]
     },
     "execution_count": 8,
     "metadata": {},
     "output_type": "execute_result"
    }
   ],
   "source": [
    "mcp_tools"
   ]
  },
  {
   "cell_type": "markdown",
   "id": "4bd22696",
   "metadata": {},
   "source": [
    "### Who can explain what just actually happened.."
   ]
  },
  {
   "cell_type": "code",
   "execution_count": 4,
   "id": "29ffdbed",
   "metadata": {},
   "outputs": [
    {
     "data": {
      "text/markdown": [
       "There is one question for which I have an official recorded answer:\n",
       "\n",
       "Question: What is your favorite musical instrument?\n",
       "Answer: The piano."
      ],
      "text/plain": [
       "<IPython.core.display.Markdown object>"
      ]
     },
     "metadata": {},
     "output_type": "display_data"
    }
   ],
   "source": [
    "with trace(\"First MCP server\"):\n",
    "    async with MCPServerStdio(params=params, client_session_timeout_seconds=30) as server:\n",
    "        agent = Agent(\"Twin\", model=\"gpt-4.1-mini\", mcp_servers=[server])\n",
    "        task = \"What are the questions for which you have an official recorded answer?\"\n",
    "        response = await Runner.run(agent, task)\n",
    "        display(Markdown(response.final_output))"
   ]
  },
  {
   "cell_type": "markdown",
   "id": "cff7016f",
   "metadata": {},
   "source": [
    "## Now go and complete this MCP server!"
   ]
  },
  {
   "cell_type": "code",
   "execution_count": 9,
   "id": "14bc2a4e",
   "metadata": {},
   "outputs": [
    {
     "data": {
      "text/markdown": [
       "I have recorded that I do not know the answer to the question \"What is my favourite fruit?\""
      ],
      "text/plain": [
       "<IPython.core.display.Markdown object>"
      ]
     },
     "metadata": {},
     "output_type": "display_data"
    }
   ],
   "source": [
    "with trace(\"First MCP server\"):\n",
    "    async with MCPServerStdio(params=params, client_session_timeout_seconds=30) as server:\n",
    "        agent = Agent(\"Twin\", model=\"gpt-4.1-mini\", mcp_servers=[server])\n",
    "        task = \"Please record that you do not know the answer to the question to my favourite fruit\"\n",
    "        response = await Runner.run(agent, task)\n",
    "        display(Markdown(response.final_output))"
   ]
  }
 ],
 "metadata": {
  "kernelspec": {
   "display_name": ".venv",
   "language": "python",
   "name": "python3"
  },
  "language_info": {
   "codemirror_mode": {
    "name": "ipython",
    "version": 3
   },
   "file_extension": ".py",
   "mimetype": "text/x-python",
   "name": "python",
   "nbconvert_exporter": "python",
   "pygments_lexer": "ipython3",
   "version": "3.12.11"
  }
 },
 "nbformat": 4,
 "nbformat_minor": 5
}
