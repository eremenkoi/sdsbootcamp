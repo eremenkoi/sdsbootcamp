{
 "cells": [
  {
   "cell_type": "markdown",
   "id": "0a231c7e",
   "metadata": {},
   "source": [
    "# Lab 4\n",
    "\n",
    "Let's use our new MCP server!"
   ]
  },
  {
   "cell_type": "code",
   "execution_count": null,
   "id": "eee53cca",
   "metadata": {},
   "outputs": [],
   "source": [
    "from dotenv import load_dotenv\n",
    "from agents import Agent, Runner, trace\n",
    "from agents.mcp import MCPServerStdio\n",
    "from IPython.display import display, Markdown\n",
    "load_dotenv(override=True)"
   ]
  },
  {
   "cell_type": "code",
   "execution_count": null,
   "id": "c1426e48",
   "metadata": {},
   "outputs": [],
   "source": [
    "params = {\"command\": \"uv\", \"args\": [\"run\", \"questions_mcp_server.py\"]}\n",
    "\n",
    "async with MCPServerStdio(params=params, client_session_timeout_seconds=30) as server:\n",
    "    mcp_tools = await server.session.list_tools()"
   ]
  },
  {
   "cell_type": "code",
   "execution_count": null,
   "id": "8ea29732",
   "metadata": {},
   "outputs": [],
   "source": [
    "mcp_tools"
   ]
  },
  {
   "cell_type": "markdown",
   "id": "4bd22696",
   "metadata": {},
   "source": [
    "### Who can explain what just actually happened.."
   ]
  },
  {
   "cell_type": "code",
   "execution_count": null,
   "id": "29ffdbed",
   "metadata": {},
   "outputs": [],
   "source": [
    "with trace(\"First MCP server\"):\n",
    "    async with MCPServerStdio(params=params, client_session_timeout_seconds=30) as server:\n",
    "        agent = Agent(\"Twin\", model=\"gpt-4.1-mini\", mcp_servers=[server])\n",
    "        task = \"What are the questions for which you have an official recorded answer?\"\n",
    "        response = await Runner.run(agent, task)\n",
    "        display(Markdown(response.final_output))"
   ]
  },
  {
   "cell_type": "markdown",
   "id": "cff7016f",
   "metadata": {},
   "source": [
    "## Now go and complete this MCP server!"
   ]
  },
  {
   "cell_type": "code",
   "execution_count": null,
   "id": "14bc2a4e",
   "metadata": {},
   "outputs": [],
   "source": []
  }
 ],
 "metadata": {
  "kernelspec": {
   "display_name": ".venv",
   "language": "python",
   "name": "python3"
  },
  "language_info": {
   "codemirror_mode": {
    "name": "ipython",
    "version": 3
   },
   "file_extension": ".py",
   "mimetype": "text/x-python",
   "name": "python",
   "nbconvert_exporter": "python",
   "pygments_lexer": "ipython3",
   "version": "3.12.9"
  }
 },
 "nbformat": 4,
 "nbformat_minor": 5
}
