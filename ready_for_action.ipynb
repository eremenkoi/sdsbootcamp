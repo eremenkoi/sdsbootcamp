{
 "cells": [
  {
   "cell_type": "markdown",
   "id": "f3cfb7e7",
   "metadata": {},
   "source": [
    "# To check you're ready for action!\n",
    "\n",
    "Have you followed the steps in the setup guide (linked in the README)?\n",
    "\n",
    "You've done a `uv sync` (you should see a directory called .venv in the top left)\n",
    "\n",
    "You've set up a key with OpenAI and you've created a `.env` file\n",
    "\n",
    "And you've looked through the guides in the guides directory.\n",
    "\n",
    "### OK - let's give this a try\n",
    "\n",
    "1. Click where it says \"Select Kernel\" in the top right\n",
    "\n",
    "2. Choose 'Python Environments' and then `.venv (Python 3.12.x)`\n",
    "\n",
    "3. Click in each \"cell\" with code below and press Shift + Return to run it..\n"
   ]
  },
  {
   "cell_type": "code",
   "execution_count": null,
   "id": "4700a4b9",
   "metadata": {},
   "outputs": [],
   "source": [
    "# Some imports\n",
    "# If any errors, please check the Kernel, and head to the troubleshooting guide\n",
    "\n",
    "import os\n",
    "from dotenv import load_dotenv\n",
    "from openai import OpenAI\n",
    "from IPython.display import display, Markdown"
   ]
  },
  {
   "cell_type": "code",
   "execution_count": null,
   "id": "d7e1a842",
   "metadata": {},
   "outputs": [],
   "source": [
    "# Check the API key\n",
    "\n",
    "load_dotenv(override=True)\n",
    "api_key = os.getenv(\"OPENAI_API_KEY\")\n",
    "\n",
    "if api_key:\n",
    "    print(f\"OpenAI API Key found and starts with {api_key[:8]}\")\n",
    "else:\n",
    "    print(\"No OpenAI API Key found\")"
   ]
  },
  {
   "cell_type": "code",
   "execution_count": null,
   "id": "e8ed67b4",
   "metadata": {},
   "outputs": [],
   "source": [
    "# Let's do this\n",
    "\n",
    "message = \"Please give me a motivational, inspiring, upbeat message to prepare me to start on an 8 week bootcamp on AI engineering and Agentic AI engineering.\"\n",
    "messages = [{'role': 'user', 'content': message}]\n",
    "\n",
    "openai = OpenAI()\n",
    "response = openai.chat.completions.create(model=\"gpt-5-mini\", messages=messages, reasoning_effort=\"minimal\", temperature=1.0)\n",
    "reply = response.choices[0].message.content\n",
    "\n",
    "display(Markdown(f\"# Please post this message on Slack to prove you got here!!\\n\\n{reply}\"))"
   ]
  },
  {
   "cell_type": "code",
   "execution_count": null,
   "id": "40b63929",
   "metadata": {},
   "outputs": [],
   "source": []
  }
 ],
 "metadata": {
  "kernelspec": {
   "display_name": ".venv",
   "language": "python",
   "name": "python3"
  },
  "language_info": {
   "codemirror_mode": {
    "name": "ipython",
    "version": 3
   },
   "file_extension": ".py",
   "mimetype": "text/x-python",
   "name": "python",
   "nbconvert_exporter": "python",
   "pygments_lexer": "ipython3",
   "version": "3.12.9"
  }
 },
 "nbformat": 4,
 "nbformat_minor": 5
}
